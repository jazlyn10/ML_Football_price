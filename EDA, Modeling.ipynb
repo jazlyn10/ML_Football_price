{
  "nbformat": 4,
  "nbformat_minor": 0,
  "metadata": {
    "colab": {
      "provenance": []
    },
    "kernelspec": {
      "name": "python3",
      "display_name": "Python 3"
    },
    "language_info": {
      "name": "python"
    }
  },
  "cells": [
    {
      "cell_type": "code",
      "execution_count": null,
      "metadata": {
        "id": "D7-P_QqRVdZ2"
      },
      "outputs": [],
      "source": [
        "from sklearn.model_selection import train_test_split\n",
        "import numpy as np\n",
        "from sklearn.linear_model import LinearRegression\n",
        "from sklearn.metrics import r2_score\n",
        "from sklearn import metrics\n",
        "from sklearn.preprocessing import StandardScaler\n",
        "import pandas as pd\n",
        "from sklearn.preprocessing import MinMaxScaler"
      ]
    },
    {
      "cell_type": "code",
      "source": [
        "df = pd.read_csv(\"/content/Data set__1682565729-62fcaa4ea2bc0b6439d2306a (1).csv\")"
      ],
      "metadata": {
        "id": "SaYEr3kmWELL"
      },
      "execution_count": null,
      "outputs": []
    },
    {
      "cell_type": "code",
      "source": [
        "df"
      ],
      "metadata": {
        "colab": {
          "base_uri": "https://localhost:8080/",
          "height": 520
        },
        "id": "lgUi3Ht6W-S_",
        "outputId": "0e4b0210-82c9-4b4c-9fe4-0ec3a6a6ba0e"
      },
      "execution_count": null,
      "outputs": [
        {
          "output_type": "execute_result",
          "data": {
            "text/plain": [
              "                    name      club  age position  position_cat  market_value  \\\n",
              "0         Alexis Sanchez   Arsenal   28       LW             1          65.0   \n",
              "1             Mesut Ozil   Arsenal   28       AM             1          50.0   \n",
              "2              Petr Cech   Arsenal   35       GK             4           7.0   \n",
              "3           Theo Walcott   Arsenal   28       RW             1          20.0   \n",
              "4      Laurent Koscielny   Arsenal   31       CB             3          22.0   \n",
              "..                   ...       ...  ...      ...           ...           ...   \n",
              "456  Edimilson Fernandes  West+Ham   21       CM             2           5.0   \n",
              "457       Arthur Masuaku  West+Ham   23       LB             3           7.0   \n",
              "458            Sam Byram  West+Ham   23       RB             3           4.5   \n",
              "459      Ashley Fletcher  West+Ham   21       CF             1           1.0   \n",
              "460         Diafra Sakho  West+Ham   27       CF             1          10.0   \n",
              "\n",
              "     page_views  fpl_value fpl_sel  fpl_points  region     nationality  \\\n",
              "0          4329       12.0  17.10%         264     3.0           Chile   \n",
              "1          4395        9.5   5.60%         167     2.0         Germany   \n",
              "2          1529        5.5   5.90%         134     2.0  Czech Republic   \n",
              "3          2393        7.5   1.50%         122     1.0         England   \n",
              "4           912        6.0   0.70%         121     2.0          France   \n",
              "..          ...        ...     ...         ...     ...             ...   \n",
              "456         288        4.5   0.40%          38     2.0     Switzerland   \n",
              "457         199        4.5   0.20%          34     4.0        Congo DR   \n",
              "458         198        4.5   0.30%          29     1.0         England   \n",
              "459         412        4.5   5.90%          16     1.0         England   \n",
              "460         214        5.5   0.10%          12     4.0         Senegal   \n",
              "\n",
              "     new_foreign  age_cat  club_id  big_club  new_signing  \n",
              "0              0        4        1         1            0  \n",
              "1              0        4        1         1            0  \n",
              "2              0        6        1         1            0  \n",
              "3              0        4        1         1            0  \n",
              "4              0        4        1         1            0  \n",
              "..           ...      ...      ...       ...          ...  \n",
              "456            0        1       20         0            1  \n",
              "457            0        2       20         0            1  \n",
              "458            0        2       20         0            0  \n",
              "459            0        1       20         0            1  \n",
              "460            0        3       20         0            0  \n",
              "\n",
              "[461 rows x 17 columns]"
            ],
            "text/html": [
              "\n",
              "  <div id=\"df-4697f7d7-6e73-41a7-88a3-ca33c4382f2e\">\n",
              "    <div class=\"colab-df-container\">\n",
              "      <div>\n",
              "<style scoped>\n",
              "    .dataframe tbody tr th:only-of-type {\n",
              "        vertical-align: middle;\n",
              "    }\n",
              "\n",
              "    .dataframe tbody tr th {\n",
              "        vertical-align: top;\n",
              "    }\n",
              "\n",
              "    .dataframe thead th {\n",
              "        text-align: right;\n",
              "    }\n",
              "</style>\n",
              "<table border=\"1\" class=\"dataframe\">\n",
              "  <thead>\n",
              "    <tr style=\"text-align: right;\">\n",
              "      <th></th>\n",
              "      <th>name</th>\n",
              "      <th>club</th>\n",
              "      <th>age</th>\n",
              "      <th>position</th>\n",
              "      <th>position_cat</th>\n",
              "      <th>market_value</th>\n",
              "      <th>page_views</th>\n",
              "      <th>fpl_value</th>\n",
              "      <th>fpl_sel</th>\n",
              "      <th>fpl_points</th>\n",
              "      <th>region</th>\n",
              "      <th>nationality</th>\n",
              "      <th>new_foreign</th>\n",
              "      <th>age_cat</th>\n",
              "      <th>club_id</th>\n",
              "      <th>big_club</th>\n",
              "      <th>new_signing</th>\n",
              "    </tr>\n",
              "  </thead>\n",
              "  <tbody>\n",
              "    <tr>\n",
              "      <th>0</th>\n",
              "      <td>Alexis Sanchez</td>\n",
              "      <td>Arsenal</td>\n",
              "      <td>28</td>\n",
              "      <td>LW</td>\n",
              "      <td>1</td>\n",
              "      <td>65.0</td>\n",
              "      <td>4329</td>\n",
              "      <td>12.0</td>\n",
              "      <td>17.10%</td>\n",
              "      <td>264</td>\n",
              "      <td>3.0</td>\n",
              "      <td>Chile</td>\n",
              "      <td>0</td>\n",
              "      <td>4</td>\n",
              "      <td>1</td>\n",
              "      <td>1</td>\n",
              "      <td>0</td>\n",
              "    </tr>\n",
              "    <tr>\n",
              "      <th>1</th>\n",
              "      <td>Mesut Ozil</td>\n",
              "      <td>Arsenal</td>\n",
              "      <td>28</td>\n",
              "      <td>AM</td>\n",
              "      <td>1</td>\n",
              "      <td>50.0</td>\n",
              "      <td>4395</td>\n",
              "      <td>9.5</td>\n",
              "      <td>5.60%</td>\n",
              "      <td>167</td>\n",
              "      <td>2.0</td>\n",
              "      <td>Germany</td>\n",
              "      <td>0</td>\n",
              "      <td>4</td>\n",
              "      <td>1</td>\n",
              "      <td>1</td>\n",
              "      <td>0</td>\n",
              "    </tr>\n",
              "    <tr>\n",
              "      <th>2</th>\n",
              "      <td>Petr Cech</td>\n",
              "      <td>Arsenal</td>\n",
              "      <td>35</td>\n",
              "      <td>GK</td>\n",
              "      <td>4</td>\n",
              "      <td>7.0</td>\n",
              "      <td>1529</td>\n",
              "      <td>5.5</td>\n",
              "      <td>5.90%</td>\n",
              "      <td>134</td>\n",
              "      <td>2.0</td>\n",
              "      <td>Czech Republic</td>\n",
              "      <td>0</td>\n",
              "      <td>6</td>\n",
              "      <td>1</td>\n",
              "      <td>1</td>\n",
              "      <td>0</td>\n",
              "    </tr>\n",
              "    <tr>\n",
              "      <th>3</th>\n",
              "      <td>Theo Walcott</td>\n",
              "      <td>Arsenal</td>\n",
              "      <td>28</td>\n",
              "      <td>RW</td>\n",
              "      <td>1</td>\n",
              "      <td>20.0</td>\n",
              "      <td>2393</td>\n",
              "      <td>7.5</td>\n",
              "      <td>1.50%</td>\n",
              "      <td>122</td>\n",
              "      <td>1.0</td>\n",
              "      <td>England</td>\n",
              "      <td>0</td>\n",
              "      <td>4</td>\n",
              "      <td>1</td>\n",
              "      <td>1</td>\n",
              "      <td>0</td>\n",
              "    </tr>\n",
              "    <tr>\n",
              "      <th>4</th>\n",
              "      <td>Laurent Koscielny</td>\n",
              "      <td>Arsenal</td>\n",
              "      <td>31</td>\n",
              "      <td>CB</td>\n",
              "      <td>3</td>\n",
              "      <td>22.0</td>\n",
              "      <td>912</td>\n",
              "      <td>6.0</td>\n",
              "      <td>0.70%</td>\n",
              "      <td>121</td>\n",
              "      <td>2.0</td>\n",
              "      <td>France</td>\n",
              "      <td>0</td>\n",
              "      <td>4</td>\n",
              "      <td>1</td>\n",
              "      <td>1</td>\n",
              "      <td>0</td>\n",
              "    </tr>\n",
              "    <tr>\n",
              "      <th>...</th>\n",
              "      <td>...</td>\n",
              "      <td>...</td>\n",
              "      <td>...</td>\n",
              "      <td>...</td>\n",
              "      <td>...</td>\n",
              "      <td>...</td>\n",
              "      <td>...</td>\n",
              "      <td>...</td>\n",
              "      <td>...</td>\n",
              "      <td>...</td>\n",
              "      <td>...</td>\n",
              "      <td>...</td>\n",
              "      <td>...</td>\n",
              "      <td>...</td>\n",
              "      <td>...</td>\n",
              "      <td>...</td>\n",
              "      <td>...</td>\n",
              "    </tr>\n",
              "    <tr>\n",
              "      <th>456</th>\n",
              "      <td>Edimilson Fernandes</td>\n",
              "      <td>West+Ham</td>\n",
              "      <td>21</td>\n",
              "      <td>CM</td>\n",
              "      <td>2</td>\n",
              "      <td>5.0</td>\n",
              "      <td>288</td>\n",
              "      <td>4.5</td>\n",
              "      <td>0.40%</td>\n",
              "      <td>38</td>\n",
              "      <td>2.0</td>\n",
              "      <td>Switzerland</td>\n",
              "      <td>0</td>\n",
              "      <td>1</td>\n",
              "      <td>20</td>\n",
              "      <td>0</td>\n",
              "      <td>1</td>\n",
              "    </tr>\n",
              "    <tr>\n",
              "      <th>457</th>\n",
              "      <td>Arthur Masuaku</td>\n",
              "      <td>West+Ham</td>\n",
              "      <td>23</td>\n",
              "      <td>LB</td>\n",
              "      <td>3</td>\n",
              "      <td>7.0</td>\n",
              "      <td>199</td>\n",
              "      <td>4.5</td>\n",
              "      <td>0.20%</td>\n",
              "      <td>34</td>\n",
              "      <td>4.0</td>\n",
              "      <td>Congo DR</td>\n",
              "      <td>0</td>\n",
              "      <td>2</td>\n",
              "      <td>20</td>\n",
              "      <td>0</td>\n",
              "      <td>1</td>\n",
              "    </tr>\n",
              "    <tr>\n",
              "      <th>458</th>\n",
              "      <td>Sam Byram</td>\n",
              "      <td>West+Ham</td>\n",
              "      <td>23</td>\n",
              "      <td>RB</td>\n",
              "      <td>3</td>\n",
              "      <td>4.5</td>\n",
              "      <td>198</td>\n",
              "      <td>4.5</td>\n",
              "      <td>0.30%</td>\n",
              "      <td>29</td>\n",
              "      <td>1.0</td>\n",
              "      <td>England</td>\n",
              "      <td>0</td>\n",
              "      <td>2</td>\n",
              "      <td>20</td>\n",
              "      <td>0</td>\n",
              "      <td>0</td>\n",
              "    </tr>\n",
              "    <tr>\n",
              "      <th>459</th>\n",
              "      <td>Ashley Fletcher</td>\n",
              "      <td>West+Ham</td>\n",
              "      <td>21</td>\n",
              "      <td>CF</td>\n",
              "      <td>1</td>\n",
              "      <td>1.0</td>\n",
              "      <td>412</td>\n",
              "      <td>4.5</td>\n",
              "      <td>5.90%</td>\n",
              "      <td>16</td>\n",
              "      <td>1.0</td>\n",
              "      <td>England</td>\n",
              "      <td>0</td>\n",
              "      <td>1</td>\n",
              "      <td>20</td>\n",
              "      <td>0</td>\n",
              "      <td>1</td>\n",
              "    </tr>\n",
              "    <tr>\n",
              "      <th>460</th>\n",
              "      <td>Diafra Sakho</td>\n",
              "      <td>West+Ham</td>\n",
              "      <td>27</td>\n",
              "      <td>CF</td>\n",
              "      <td>1</td>\n",
              "      <td>10.0</td>\n",
              "      <td>214</td>\n",
              "      <td>5.5</td>\n",
              "      <td>0.10%</td>\n",
              "      <td>12</td>\n",
              "      <td>4.0</td>\n",
              "      <td>Senegal</td>\n",
              "      <td>0</td>\n",
              "      <td>3</td>\n",
              "      <td>20</td>\n",
              "      <td>0</td>\n",
              "      <td>0</td>\n",
              "    </tr>\n",
              "  </tbody>\n",
              "</table>\n",
              "<p>461 rows × 17 columns</p>\n",
              "</div>\n",
              "      <button class=\"colab-df-convert\" onclick=\"convertToInteractive('df-4697f7d7-6e73-41a7-88a3-ca33c4382f2e')\"\n",
              "              title=\"Convert this dataframe to an interactive table.\"\n",
              "              style=\"display:none;\">\n",
              "        \n",
              "  <svg xmlns=\"http://www.w3.org/2000/svg\" height=\"24px\"viewBox=\"0 0 24 24\"\n",
              "       width=\"24px\">\n",
              "    <path d=\"M0 0h24v24H0V0z\" fill=\"none\"/>\n",
              "    <path d=\"M18.56 5.44l.94 2.06.94-2.06 2.06-.94-2.06-.94-.94-2.06-.94 2.06-2.06.94zm-11 1L8.5 8.5l.94-2.06 2.06-.94-2.06-.94L8.5 2.5l-.94 2.06-2.06.94zm10 10l.94 2.06.94-2.06 2.06-.94-2.06-.94-.94-2.06-.94 2.06-2.06.94z\"/><path d=\"M17.41 7.96l-1.37-1.37c-.4-.4-.92-.59-1.43-.59-.52 0-1.04.2-1.43.59L10.3 9.45l-7.72 7.72c-.78.78-.78 2.05 0 2.83L4 21.41c.39.39.9.59 1.41.59.51 0 1.02-.2 1.41-.59l7.78-7.78 2.81-2.81c.8-.78.8-2.07 0-2.86zM5.41 20L4 18.59l7.72-7.72 1.47 1.35L5.41 20z\"/>\n",
              "  </svg>\n",
              "      </button>\n",
              "      \n",
              "  <style>\n",
              "    .colab-df-container {\n",
              "      display:flex;\n",
              "      flex-wrap:wrap;\n",
              "      gap: 12px;\n",
              "    }\n",
              "\n",
              "    .colab-df-convert {\n",
              "      background-color: #E8F0FE;\n",
              "      border: none;\n",
              "      border-radius: 50%;\n",
              "      cursor: pointer;\n",
              "      display: none;\n",
              "      fill: #1967D2;\n",
              "      height: 32px;\n",
              "      padding: 0 0 0 0;\n",
              "      width: 32px;\n",
              "    }\n",
              "\n",
              "    .colab-df-convert:hover {\n",
              "      background-color: #E2EBFA;\n",
              "      box-shadow: 0px 1px 2px rgba(60, 64, 67, 0.3), 0px 1px 3px 1px rgba(60, 64, 67, 0.15);\n",
              "      fill: #174EA6;\n",
              "    }\n",
              "\n",
              "    [theme=dark] .colab-df-convert {\n",
              "      background-color: #3B4455;\n",
              "      fill: #D2E3FC;\n",
              "    }\n",
              "\n",
              "    [theme=dark] .colab-df-convert:hover {\n",
              "      background-color: #434B5C;\n",
              "      box-shadow: 0px 1px 3px 1px rgba(0, 0, 0, 0.15);\n",
              "      filter: drop-shadow(0px 1px 2px rgba(0, 0, 0, 0.3));\n",
              "      fill: #FFFFFF;\n",
              "    }\n",
              "  </style>\n",
              "\n",
              "      <script>\n",
              "        const buttonEl =\n",
              "          document.querySelector('#df-4697f7d7-6e73-41a7-88a3-ca33c4382f2e button.colab-df-convert');\n",
              "        buttonEl.style.display =\n",
              "          google.colab.kernel.accessAllowed ? 'block' : 'none';\n",
              "\n",
              "        async function convertToInteractive(key) {\n",
              "          const element = document.querySelector('#df-4697f7d7-6e73-41a7-88a3-ca33c4382f2e');\n",
              "          const dataTable =\n",
              "            await google.colab.kernel.invokeFunction('convertToInteractive',\n",
              "                                                     [key], {});\n",
              "          if (!dataTable) return;\n",
              "\n",
              "          const docLinkHtml = 'Like what you see? Visit the ' +\n",
              "            '<a target=\"_blank\" href=https://colab.research.google.com/notebooks/data_table.ipynb>data table notebook</a>'\n",
              "            + ' to learn more about interactive tables.';\n",
              "          element.innerHTML = '';\n",
              "          dataTable['output_type'] = 'display_data';\n",
              "          await google.colab.output.renderOutput(dataTable, element);\n",
              "          const docLink = document.createElement('div');\n",
              "          docLink.innerHTML = docLinkHtml;\n",
              "          element.appendChild(docLink);\n",
              "        }\n",
              "      </script>\n",
              "    </div>\n",
              "  </div>\n",
              "  "
            ]
          },
          "metadata": {},
          "execution_count": 142
        }
      ]
    },
    {
      "cell_type": "code",
      "source": [
        "df.info()"
      ],
      "metadata": {
        "colab": {
          "base_uri": "https://localhost:8080/"
        },
        "id": "bdoATO6mXCsR",
        "outputId": "881a5ef4-f2fe-4366-eed9-145b783e3e2b"
      },
      "execution_count": null,
      "outputs": [
        {
          "output_type": "stream",
          "name": "stdout",
          "text": [
            "<class 'pandas.core.frame.DataFrame'>\n",
            "RangeIndex: 461 entries, 0 to 460\n",
            "Data columns (total 17 columns):\n",
            " #   Column        Non-Null Count  Dtype  \n",
            "---  ------        --------------  -----  \n",
            " 0   name          461 non-null    object \n",
            " 1   club          461 non-null    object \n",
            " 2   age           461 non-null    int64  \n",
            " 3   position      461 non-null    object \n",
            " 4   position_cat  461 non-null    int64  \n",
            " 5   market_value  461 non-null    float64\n",
            " 6   page_views    461 non-null    int64  \n",
            " 7   fpl_value     461 non-null    float64\n",
            " 8   fpl_sel       461 non-null    object \n",
            " 9   fpl_points    461 non-null    int64  \n",
            " 10  region        460 non-null    float64\n",
            " 11  nationality   461 non-null    object \n",
            " 12  new_foreign   461 non-null    int64  \n",
            " 13  age_cat       461 non-null    int64  \n",
            " 14  club_id       461 non-null    int64  \n",
            " 15  big_club      461 non-null    int64  \n",
            " 16  new_signing   461 non-null    int64  \n",
            "dtypes: float64(3), int64(9), object(5)\n",
            "memory usage: 61.4+ KB\n"
          ]
        }
      ]
    },
    {
      "cell_type": "code",
      "source": [
        "import pandas as pd\n",
        "\n",
        "unique_values = df['club'].unique()\n",
        "print(unique_values)"
      ],
      "metadata": {
        "colab": {
          "base_uri": "https://localhost:8080/"
        },
        "id": "f6Tn02F-XK6T",
        "outputId": "2bdc5225-531f-4d5e-d182-8454ae978c80"
      },
      "execution_count": null,
      "outputs": [
        {
          "output_type": "stream",
          "name": "stdout",
          "text": [
            "['Arsenal' 'Bournemouth' 'Brighton+and+Hove' 'Burnley' 'Chelsea'\n",
            " 'Crystal+Palace' 'Everton' 'Huddersfield' 'Leicester+City' 'Liverpool'\n",
            " 'Manchester+City' 'Manchester+United' 'Newcastle+United' 'Southampton'\n",
            " 'Stoke+City' 'Swansea' 'Tottenham' 'Watford' 'West+Brom' 'West+Ham']\n"
          ]
        }
      ]
    },
    {
      "cell_type": "code",
      "source": [
        "unique_values = df['position'].unique()\n",
        "print(unique_values)\n"
      ],
      "metadata": {
        "colab": {
          "base_uri": "https://localhost:8080/"
        },
        "id": "nMmkyJIDXaRH",
        "outputId": "2c94e17c-306b-4792-9082-48612f010460"
      },
      "execution_count": null,
      "outputs": [
        {
          "output_type": "stream",
          "name": "stdout",
          "text": [
            "['LW' 'AM' 'GK' 'RW' 'CB' 'RB' 'CF' 'LB' 'DM' 'RM' 'CM' 'SS' 'LM']\n"
          ]
        }
      ]
    },
    {
      "cell_type": "code",
      "source": [
        "unique_values = df['fpl_sel'].unique()\n",
        "print(unique_values)\n"
      ],
      "metadata": {
        "colab": {
          "base_uri": "https://localhost:8080/"
        },
        "id": "8fZ51n5KXdxV",
        "outputId": "00f62996-e267-4b37-db55-c8db48e62a20"
      },
      "execution_count": null,
      "outputs": [
        {
          "output_type": "stream",
          "name": "stdout",
          "text": [
            "['17.10%' '5.60%' '5.90%' '1.50%' '0.70%' '13.70%' '2.50%' '4.70%' '4.00%'\n",
            " '1.00%' '2.00%' '1.80%' '0.00%' '5.10%' '1.70%' '0.10%' '0.50%' '0.80%'\n",
            " '4.20%' '0.20%' '0.40%' '6.90%' '26.50%' '10.40%' '15.00%' '19.80%'\n",
            " '0.60%' '0.90%' '1.60%' '11.50%' '1.10%' '3.30%' '9.30%' '2.10%' '4.10%'\n",
            " '8.00%' '3.20%' '4.80%' '0.30%' '1.30%' '13.50%' '2.90%' '1.20%' '2.30%'\n",
            " '3.00%' '12.00%' '12.40%' '12.30%' '7.80%' '18.50%' '20.30%' '7.50%'\n",
            " '9.00%' '5.00%' '13.80%' '6.40%' '20.90%' '10.50%' '2.70%' '10.90%'\n",
            " '1.40%' '16.40%' '10.00%' '13.10%' '6.30%' '14.60%' '3.60%' '2.40%'\n",
            " '2.60%' '3.50%' '5.50%' '30.80%' '5.30%' '7.10%' '4.50%' '6.60%' '4.30%'\n",
            " '17.50%' '9.70%' '3.80%' '8.80%' '15.20%' '4.60%' '45.00%' '26.10%'\n",
            " '6.20%' '19.50%' '10.20%' '7.70%' '17.00%' '5.20%' '11.40%' '2.80%'\n",
            " '7.30%' '11.30%' '11.20%' '4.90%' '2.20%' '6.00%' '8.70%' '18.80%'\n",
            " '38.60%' '35.10%' '12.60%' '13.30%' '3.10%' '17.30%' '3.40%' '5.40%'\n",
            " '11.80%' '20.70%' '6.50%' '7.20%']\n"
          ]
        }
      ]
    },
    {
      "cell_type": "code",
      "source": [
        "unique_values = df['nationality'].unique()\n",
        "print(unique_values)\n"
      ],
      "metadata": {
        "colab": {
          "base_uri": "https://localhost:8080/"
        },
        "id": "LkTAyAAvXi9o",
        "outputId": "f773a37c-059e-453f-943d-a24f4302e741"
      },
      "execution_count": null,
      "outputs": [
        {
          "output_type": "stream",
          "name": "stdout",
          "text": [
            "['Chile' 'Germany' 'Czech Republic' 'England' 'France' 'Spain' 'Nigeria'\n",
            " 'Switzerland' 'Wales' 'Brazil' 'Egypt' 'Argentina' 'Colombia' 'Bosnia'\n",
            " 'Norway' 'Poland' 'Scotland' 'Congo DR' 'Ireland' 'Netherlands'\n",
            " 'Australia' \"Cote d'Ivoire\" 'Finland' 'Cameroon' 'Austria' 'Israel'\n",
            " 'Northern Ireland' 'Canada' 'Belgium' 'Iceland' 'Serbia' 'Portugal'\n",
            " 'Ghana' 'South Korea' 'Mali' 'Senegal' 'Curacao' 'Denmark' 'Slovenia'\n",
            " 'Trinidad and Tobago' 'Bermuda' 'Benin' 'Algeria' 'Jamaica' 'Japan'\n",
            " 'Tunisia' 'Croatia' 'Estonia' 'Ecuador' 'Armenia' 'Italy' 'Sweden'\n",
            " 'United States' 'Morocco' 'The Gambia' 'Kenya' 'Greece' 'Uruguay'\n",
            " 'Romania' 'Venezuela' 'New Zealand']\n"
          ]
        }
      ]
    },
    {
      "cell_type": "code",
      "source": [
        "import seaborn as sns\n",
        "import matplotlib.pyplot as plt\n",
        "\n",
        "# Create the heatmap\n",
        "fig, ax = plt.subplots(figsize=(9,9))\n",
        "sns.heatmap(df.corr(), annot=True, cmap='coolwarm')\n",
        "\n",
        "# Show the plot\n",
        "plt.show()"
      ],
      "metadata": {
        "colab": {
          "base_uri": "https://localhost:8080/",
          "height": 895
        },
        "id": "XTm9erUOX7-b",
        "outputId": "fe77716a-e4c1-4b85-f975-8ebef434358c"
      },
      "execution_count": null,
      "outputs": [
        {
          "output_type": "stream",
          "name": "stderr",
          "text": [
            "<ipython-input-148-192b4b393ed7>:6: FutureWarning: The default value of numeric_only in DataFrame.corr is deprecated. In a future version, it will default to False. Select only valid columns or specify the value of numeric_only to silence this warning.\n",
            "  sns.heatmap(df.corr(), annot=True, cmap='coolwarm')\n"
          ]
        },
        {
          "output_type": "display_data",
          "data": {
            "text/plain": [
              "<Figure size 900x900 with 2 Axes>"
            ],
            "image/png": "[encoded data removed]"
          },
          "metadata": {}
        }
      ]
    },
    {
      "cell_type": "markdown",
      "source": [
        "fpl_value, page_views are the highest correlated while region and age_cat are the lowest correlated\n"
      ],
      "metadata": {
        "id": "6cwbj67hsARc"
      }
    },
    {
      "cell_type": "code",
      "source": [
        "feature = 'market_value'\n",
        "\n",
        "# Calculate the correlation matrix\n",
        "correlation_matrix = df.corr()\n",
        "\n",
        "# Extract the correlations related to the selected feature\n",
        "correlation_subset = correlation_matrix[[feature]]\n",
        "\n",
        "# Create the heatmap\n",
        "fig, ax = plt.subplots(figsize=(3, 10))\n",
        "sns.heatmap(correlation_subset, annot=True, cmap='coolwarm')\n",
        "\n",
        "# Set the plot title\n",
        "plt.title(f'Correlation Heatmap - {feature}')\n",
        "\n",
        "# Show the plot\n",
        "plt.show()\n",
        "\n"
      ],
      "metadata": {
        "colab": {
          "base_uri": "https://localhost:8080/",
          "height": 909
        },
        "id": "v_k2Z4TUYM9a",
        "outputId": "0acee420-9c4a-4087-e1a0-ee1603a2ea66"
      },
      "execution_count": null,
      "outputs": [
        {
          "output_type": "stream",
          "name": "stderr",
          "text": [
            "<ipython-input-149-59761476db37>:4: FutureWarning: The default value of numeric_only in DataFrame.corr is deprecated. In a future version, it will default to False. Select only valid columns or specify the value of numeric_only to silence this warning.\n",
            "  correlation_matrix = df.corr()\n"
          ]
        },
        {
          "output_type": "display_data",
          "data": {
            "text/plain": [
              "<Figure size 300x1000 with 2 Axes>"
            ],
            "image/png": "[encoded data removed]"
          },
          "metadata": {}
        }
      ]
    },
    {
      "cell_type": "code",
      "source": [
        "df['fpl_sel'] = df['fpl_sel'].str.replace('%', '')"
      ],
      "metadata": {
        "id": "MPwub2KOa-Fm"
      },
      "execution_count": null,
      "outputs": []
    },
    {
      "cell_type": "code",
      "source": [
        "df['fpl_sel'] = df['fpl_sel'].astype('float')"
      ],
      "metadata": {
        "id": "URhxZRkbbQQW"
      },
      "execution_count": null,
      "outputs": []
    },
    {
      "cell_type": "code",
      "source": [
        "correlation_matrix = df.corr()\n",
        "\n",
        "# Select the correlation values for the target column\n",
        "correlation_with_target = correlation_matrix['market_value']\n",
        "\n",
        "# Sort the correlation values in descending order\n",
        "correlation_sorted = correlation_with_target.sort_values(ascending=False)\n",
        "\n",
        "# Print the correlation values in descending order\n",
        "print(correlation_sorted)"
      ],
      "metadata": {
        "colab": {
          "base_uri": "https://localhost:8080/"
        },
        "id": "mLdGnwv6YUGd",
        "outputId": "1adfb26c-7881-4dff-af88-277f9dddcb69"
      },
      "execution_count": null,
      "outputs": [
        {
          "output_type": "stream",
          "name": "stdout",
          "text": [
            "market_value    1.000000\n",
            "fpl_value       0.788653\n",
            "page_views      0.739657\n",
            "fpl_points      0.615155\n",
            "big_club        0.593483\n",
            "fpl_sel         0.548703\n",
            "new_signing     0.131321\n",
            "region          0.101659\n",
            "new_foreign     0.098056\n",
            "club_id        -0.046068\n",
            "age_cat        -0.117682\n",
            "age            -0.132396\n",
            "position_cat   -0.217637\n",
            "Name: market_value, dtype: float64\n"
          ]
        },
        {
          "output_type": "stream",
          "name": "stderr",
          "text": [
            "<ipython-input-153-f1db021ec938>:1: FutureWarning: The default value of numeric_only in DataFrame.corr is deprecated. In a future version, it will default to False. Select only valid columns or specify the value of numeric_only to silence this warning.\n",
            "  correlation_matrix = df.corr()\n"
          ]
        }
      ]
    },
    {
      "cell_type": "code",
      "source": [
        "sns.boxplot(y='fpl_value',x='market_value',data=df,orient='h')\n",
        "plt.xlabel(\"market_value\")\n",
        "plt.show()"
      ],
      "metadata": {
        "colab": {
          "base_uri": "https://localhost:8080/",
          "height": 450
        },
        "id": "49TMMvdPYaQ_",
        "outputId": "cefd79c6-3444-485a-adb5-6392b4edd539"
      },
      "execution_count": null,
      "outputs": [
        {
          "output_type": "display_data",
          "data": {
            "text/plain": [
              "<Figure size 640x480 with 1 Axes>"
            ],
            "image/png": "[encoded data removed]"
          },
          "metadata": {}
        }
      ]
    },
    {
      "cell_type": "markdown",
      "source": [
        "as fpl value increases market value increases as well"
      ],
      "metadata": {
        "id": "QUXpxCyvsLIe"
      }
    },
    {
      "cell_type": "code",
      "source": [
        "sns.boxplot(y='big_club',x='market_value',data=df,orient='h')\n",
        "plt.xlabel(\"market_value\")\n",
        "plt.show()"
      ],
      "metadata": {
        "colab": {
          "base_uri": "https://localhost:8080/",
          "height": 450
        },
        "id": "NzBXbAvWYtJ8",
        "outputId": "4175c277-3f14-45ba-b0f4-cafa9d1c25ba"
      },
      "execution_count": null,
      "outputs": [
        {
          "output_type": "display_data",
          "data": {
            "text/plain": [
              "<Figure size 640x480 with 1 Axes>"
            ],
            "image/png": "[encoded data removed]"
          },
          "metadata": {}
        }
      ]
    },
    {
      "cell_type": "markdown",
      "source": [
        "if their club is big their market vslue is higher"
      ],
      "metadata": {
        "id": "kdXyF-lYsO8e"
      }
    },
    {
      "cell_type": "code",
      "source": [
        "sns.boxplot(y='new_signing',x='market_value',data=df,orient='h')\n",
        "plt.xlabel(\"market_value\")\n",
        "plt.show()"
      ],
      "metadata": {
        "colab": {
          "base_uri": "https://localhost:8080/",
          "height": 450
        },
        "id": "FgQY4WzjYxfm",
        "outputId": "605e511f-59b5-4057-8f0f-72a6358223b5"
      },
      "execution_count": null,
      "outputs": [
        {
          "output_type": "display_data",
          "data": {
            "text/plain": [
              "<Figure size 640x480 with 1 Axes>"
            ],
            "image/png": "[encoded data removed]"
          },
          "metadata": {}
        }
      ]
    },
    {
      "cell_type": "markdown",
      "source": [
        "if they are a new signing their market values are higher but old signings have more outliers with hiher market value"
      ],
      "metadata": {
        "id": "G7W_5yUrsSEw"
      }
    },
    {
      "cell_type": "code",
      "source": [
        "sns.boxplot(y='region',x='market_value',data=df,orient='h')\n",
        "plt.xlabel(\"market_value\")\n",
        "plt.show()"
      ],
      "metadata": {
        "colab": {
          "base_uri": "https://localhost:8080/",
          "height": 450
        },
        "id": "morYxGt1ZDwf",
        "outputId": "37dd6c56-b85e-405b-a58d-d536389f25f1"
      },
      "execution_count": null,
      "outputs": [
        {
          "output_type": "display_data",
          "data": {
            "text/plain": [
              "<Figure size 640x480 with 1 Axes>"
            ],
            "image/png": "[encoded data removed]"
          },
          "metadata": {}
        }
      ]
    },
    {
      "cell_type": "code",
      "source": [
        "sns.boxplot(y='age_cat',x='market_value',data=df,orient='h')\n",
        "plt.xlabel(\"market_value\")\n",
        "plt.show()"
      ],
      "metadata": {
        "colab": {
          "base_uri": "https://localhost:8080/",
          "height": 450
        },
        "id": "rEeQPOF6ZIHY",
        "outputId": "f117c252-93e5-42bb-c1a7-349acda72397"
      },
      "execution_count": null,
      "outputs": [
        {
          "output_type": "display_data",
          "data": {
            "text/plain": [
              "<Figure size 640x480 with 1 Axes>"
            ],
            "image/png": "[encoded data removed]"
          },
          "metadata": {}
        }
      ]
    },
    {
      "cell_type": "markdown",
      "source": [
        "age cat of 2, 3 have the highest market value while 6 have the lowest"
      ],
      "metadata": {
        "id": "OVda3wxQsV6n"
      }
    },
    {
      "cell_type": "code",
      "source": [
        "sns.boxplot(y='age',x='market_value',data=df,orient='h')\n",
        "plt.xlabel(\"market_value\")\n",
        "plt.show()"
      ],
      "metadata": {
        "colab": {
          "base_uri": "https://localhost:8080/",
          "height": 450
        },
        "id": "jTjJaMHCZKlM",
        "outputId": "72ae8382-0f17-4b81-f5e2-265e7e462346"
      },
      "execution_count": null,
      "outputs": [
        {
          "output_type": "display_data",
          "data": {
            "text/plain": [
              "<Figure size 640x480 with 1 Axes>"
            ],
            "image/png": "[encoded data removed]"
          },
          "metadata": {}
        }
      ]
    },
    {
      "cell_type": "markdown",
      "source": [
        "age 26 has the highest market value"
      ],
      "metadata": {
        "id": "UMuzOnQasZjZ"
      }
    },
    {
      "cell_type": "code",
      "source": [
        "sns.regplot(x=\"market_value\", y=\"fpl_value\", data=df, fit_reg=False)\n"
      ],
      "metadata": {
        "colab": {
          "base_uri": "https://localhost:8080/",
          "height": 468
        },
        "id": "f2mc6encZwtE",
        "outputId": "b7c1c07b-5336-4e3d-ada2-129cd3cb42b2"
      },
      "execution_count": null,
      "outputs": [
        {
          "output_type": "execute_result",
          "data": {
            "text/plain": [
              "<Axes: xlabel='market_value', ylabel='fpl_value'>"
            ]
          },
          "metadata": {},
          "execution_count": 160
        },
        {
          "output_type": "display_data",
          "data": {
            "text/plain": [
              "<Figure size 640x480 with 1 Axes>"
            ],
            "image/png": "[encoded data removed]"
          },
          "metadata": {}
        }
      ]
    },
    {
      "cell_type": "markdown",
      "source": [
        "as fpl value increses market value increses"
      ],
      "metadata": {
        "id": "DW_P5lqcse0p"
      }
    },
    {
      "cell_type": "code",
      "source": [
        "sns.regplot(x=\"market_value\", y=\"age_cat\", data=df, fit_reg=False)\n"
      ],
      "metadata": {
        "colab": {
          "base_uri": "https://localhost:8080/",
          "height": 468
        },
        "id": "njZweB4ZZ8Yu",
        "outputId": "763515eb-aa27-41ab-9c47-9c8a8bd23894"
      },
      "execution_count": null,
      "outputs": [
        {
          "output_type": "execute_result",
          "data": {
            "text/plain": [
              "<Axes: xlabel='market_value', ylabel='age_cat'>"
            ]
          },
          "metadata": {},
          "execution_count": 161
        },
        {
          "output_type": "display_data",
          "data": {
            "text/plain": [
              "<Figure size 640x480 with 1 Axes>"
            ],
            "image/png": "[encoded data removed]"
          },
          "metadata": {}
        }
      ]
    },
    {
      "cell_type": "code",
      "source": [
        "sns.regplot(x=\"market_value\", y=\"age\", data=df, fit_reg=False)\n"
      ],
      "metadata": {
        "colab": {
          "base_uri": "https://localhost:8080/",
          "height": 468
        },
        "id": "Z1bq9lZKaBC5",
        "outputId": "3248f204-0073-4462-b1b9-053bdccefff3"
      },
      "execution_count": null,
      "outputs": [
        {
          "output_type": "execute_result",
          "data": {
            "text/plain": [
              "<Axes: xlabel='market_value', ylabel='age'>"
            ]
          },
          "metadata": {},
          "execution_count": 162
        },
        {
          "output_type": "display_data",
          "data": {
            "text/plain": [
              "<Figure size 640x480 with 1 Axes>"
            ],
            "image/png": "[encoded data removed]"
          },
          "metadata": {}
        }
      ]
    },
    {
      "cell_type": "code",
      "source": [
        "#import required packages\n",
        "from sklearn import neighbors\n",
        "from sklearn.metrics import mean_squared_error\n",
        "from math import sqrt\n",
        "import matplotlib.pyplot as plt\n",
        "%matplotlib inline"
      ],
      "metadata": {
        "id": "PF6hvYPoaNlA"
      },
      "execution_count": null,
      "outputs": []
    },
    {
      "cell_type": "code",
      "source": [
        "df.fillna(value = 0,inplace = True)\n",
        "print(df)"
      ],
      "metadata": {
        "colab": {
          "base_uri": "https://localhost:8080/"
        },
        "id": "iSeTyBYxsbxy",
        "outputId": "9bbfc35a-38dc-416b-d0e1-d1901b507a1b"
      },
      "execution_count": null,
      "outputs": [
        {
          "output_type": "stream",
          "name": "stdout",
          "text": [
            "                    name      club  age position  position_cat  market_value  \\\n",
            "0         Alexis Sanchez   Arsenal   28       LW             1          65.0   \n",
            "1             Mesut Ozil   Arsenal   28       AM             1          50.0   \n",
            "2              Petr Cech   Arsenal   35       GK             4           7.0   \n",
            "3           Theo Walcott   Arsenal   28       RW             1          20.0   \n",
            "4      Laurent Koscielny   Arsenal   31       CB             3          22.0   \n",
            "..                   ...       ...  ...      ...           ...           ...   \n",
            "456  Edimilson Fernandes  West+Ham   21       CM             2           5.0   \n",
            "457       Arthur Masuaku  West+Ham   23       LB             3           7.0   \n",
            "458            Sam Byram  West+Ham   23       RB             3           4.5   \n",
            "459      Ashley Fletcher  West+Ham   21       CF             1           1.0   \n",
            "460         Diafra Sakho  West+Ham   27       CF             1          10.0   \n",
            "\n",
            "     page_views  fpl_value  fpl_sel  fpl_points  region     nationality  \\\n",
            "0          4329       12.0     17.1         264     3.0           Chile   \n",
            "1          4395        9.5      5.6         167     2.0         Germany   \n",
            "2          1529        5.5      5.9         134     2.0  Czech Republic   \n",
            "3          2393        7.5      1.5         122     1.0         England   \n",
            "4           912        6.0      0.7         121     2.0          France   \n",
            "..          ...        ...      ...         ...     ...             ...   \n",
            "456         288        4.5      0.4          38     2.0     Switzerland   \n",
            "457         199        4.5      0.2          34     4.0        Congo DR   \n",
            "458         198        4.5      0.3          29     1.0         England   \n",
            "459         412        4.5      5.9          16     1.0         England   \n",
            "460         214        5.5      0.1          12     4.0         Senegal   \n",
            "\n",
            "     new_foreign  age_cat  club_id  big_club  new_signing  \n",
            "0              0        4        1         1            0  \n",
            "1              0        4        1         1            0  \n",
            "2              0        6        1         1            0  \n",
            "3              0        4        1         1            0  \n",
            "4              0        4        1         1            0  \n",
            "..           ...      ...      ...       ...          ...  \n",
            "456            0        1       20         0            1  \n",
            "457            0        2       20         0            1  \n",
            "458            0        2       20         0            0  \n",
            "459            0        1       20         0            1  \n",
            "460            0        3       20         0            0  \n",
            "\n",
            "[461 rows x 17 columns]\n"
          ]
        }
      ]
    },
    {
      "cell_type": "code",
      "source": [
        "df.info()"
      ],
      "metadata": {
        "colab": {
          "base_uri": "https://localhost:8080/"
        },
        "id": "PyHaBPwJtkGt",
        "outputId": "63dea889-1cc3-4d68-8de0-2954d6983cba"
      },
      "execution_count": null,
      "outputs": [
        {
          "output_type": "stream",
          "name": "stdout",
          "text": [
            "<class 'pandas.core.frame.DataFrame'>\n",
            "RangeIndex: 461 entries, 0 to 460\n",
            "Data columns (total 17 columns):\n",
            " #   Column        Non-Null Count  Dtype  \n",
            "---  ------        --------------  -----  \n",
            " 0   name          461 non-null    object \n",
            " 1   club          461 non-null    object \n",
            " 2   age           461 non-null    int64  \n",
            " 3   position      461 non-null    object \n",
            " 4   position_cat  461 non-null    int64  \n",
            " 5   market_value  461 non-null    float64\n",
            " 6   page_views    461 non-null    int64  \n",
            " 7   fpl_value     461 non-null    float64\n",
            " 8   fpl_sel       461 non-null    float64\n",
            " 9   fpl_points    461 non-null    int64  \n",
            " 10  region        461 non-null    float64\n",
            " 11  nationality   461 non-null    object \n",
            " 12  new_foreign   461 non-null    int64  \n",
            " 13  age_cat       461 non-null    int64  \n",
            " 14  club_id       461 non-null    int64  \n",
            " 15  big_club      461 non-null    int64  \n",
            " 16  new_signing   461 non-null    int64  \n",
            "dtypes: float64(4), int64(9), object(4)\n",
            "memory usage: 61.4+ KB\n"
          ]
        }
      ]
    },
    {
      "cell_type": "code",
      "source": [
        "X = df.drop(['market_value', 'name', 'club', 'age', 'position', 'nationality'], axis=1)\n",
        "y = df['market_value']"
      ],
      "metadata": {
        "id": "4oSZK_ZdaYhp"
      },
      "execution_count": null,
      "outputs": []
    },
    {
      "cell_type": "code",
      "source": [
        "X_train, X_test, y_train, y_test = train_test_split(X, y, test_size=0.2, random_state=42)\n",
        "X_train.to_csv('X_train.csv', index=False)\n",
        "y_train.to_csv('y_train.csv', index=False)\n",
        "X_test.to_csv('X_test.csv', index=False)\n",
        "y_test.to_csv('y_test.csv', index=False)"
      ],
      "metadata": {
        "id": "HdJN6-pHt1JC"
      },
      "execution_count": null,
      "outputs": []
    },
    {
      "cell_type": "markdown",
      "source": [
        "# **PERFORMING RFE**"
      ],
      "metadata": {
        "id": "RDGNCUSwLDrL"
      }
    },
    {
      "cell_type": "code",
      "source": [
        "lr = LinearRegression()\n",
        "lr.fit(X_train, y_train)\n",
        "\n",
        "y_pred = lr.predict(X_test)\n",
        "\n",
        "# Calculate the R^2 score\n",
        "r2 = r2_score(y_test, y_pred)\n",
        "\n",
        "from sklearn.metrics import mean_absolute_error\n",
        "# Calculate the MAE\n",
        "mae = mean_absolute_error(y_test, y_pred)\n",
        "\n",
        "print(\"MAE: %.3f\" % mae)\n",
        "MSE = np.square(np.subtract(y_test, y_pred)).mean()\n",
        "print(\"MSE: %.3f\" % MSE)\n",
        "r2"
      ],
      "metadata": {
        "colab": {
          "base_uri": "https://localhost:8080/"
        },
        "id": "COfYLCj4twCe",
        "outputId": "8ba225cc-24ae-4fbd-a716-6346173356f8"
      },
      "execution_count": null,
      "outputs": [
        {
          "output_type": "stream",
          "name": "stdout",
          "text": [
            "MAE: 3.504\n",
            "MSE: 21.906\n"
          ]
        },
        {
          "output_type": "execute_result",
          "data": {
            "text/plain": [
              "0.8190333784929126"
            ]
          },
          "metadata": {},
          "execution_count": 168
        }
      ]
    },
    {
      "cell_type": "code",
      "source": [
        "from sklearn.linear_model import LinearRegression\n",
        "from sklearn.feature_selection import RFE\n",
        "import pandas as pd\n",
        "\n",
        "# create a linear regression object\n",
        "lr = LinearRegression()\n",
        "\n",
        "# create the RFE object and specify the number of features to select\n",
        "rfe = RFE(estimator=lr, n_features_to_select=8, step=1)\n",
        "\n",
        "# fit the RFE object to the data\n",
        "rfe.fit(X, y)\n",
        "\n",
        "# print the selected features\n",
        "print(\"Selected Features:\")\n",
        "print(X.columns[rfe.support_])"
      ],
      "metadata": {
        "colab": {
          "base_uri": "https://localhost:8080/"
        },
        "id": "nNVln-lTt_QM",
        "outputId": "49d4c9cb-f91d-4cfa-cc38-bc8b8ce32bd1"
      },
      "execution_count": null,
      "outputs": [
        {
          "output_type": "stream",
          "name": "stdout",
          "text": [
            "Selected Features:\n",
            "Index(['position_cat', 'fpl_value', 'fpl_sel', 'region', 'new_foreign',\n",
            "       'age_cat', 'big_club', 'new_signing'],\n",
            "      dtype='object')\n"
          ]
        }
      ]
    },
    {
      "cell_type": "code",
      "source": [
        "df.info()"
      ],
      "metadata": {
        "colab": {
          "base_uri": "https://localhost:8080/"
        },
        "id": "hYv0mZkAuID9",
        "outputId": "90f7edb8-fea4-47ea-8135-3addb35f00a5"
      },
      "execution_count": null,
      "outputs": [
        {
          "output_type": "stream",
          "name": "stdout",
          "text": [
            "<class 'pandas.core.frame.DataFrame'>\n",
            "RangeIndex: 461 entries, 0 to 460\n",
            "Data columns (total 17 columns):\n",
            " #   Column        Non-Null Count  Dtype  \n",
            "---  ------        --------------  -----  \n",
            " 0   name          461 non-null    object \n",
            " 1   club          461 non-null    object \n",
            " 2   age           461 non-null    int64  \n",
            " 3   position      461 non-null    object \n",
            " 4   position_cat  461 non-null    int64  \n",
            " 5   market_value  461 non-null    float64\n",
            " 6   page_views    461 non-null    int64  \n",
            " 7   fpl_value     461 non-null    float64\n",
            " 8   fpl_sel       461 non-null    float64\n",
            " 9   fpl_points    461 non-null    int64  \n",
            " 10  region        461 non-null    float64\n",
            " 11  nationality   461 non-null    object \n",
            " 12  new_foreign   461 non-null    int64  \n",
            " 13  age_cat       461 non-null    int64  \n",
            " 14  club_id       461 non-null    int64  \n",
            " 15  big_club      461 non-null    int64  \n",
            " 16  new_signing   461 non-null    int64  \n",
            "dtypes: float64(4), int64(9), object(4)\n",
            "memory usage: 61.4+ KB\n"
          ]
        }
      ]
    },
    {
      "cell_type": "code",
      "source": [
        "X = df[['position_cat', 'fpl_value', 'fpl_sel', 'region', 'new_foreign', 'age_cat', 'big_club', 'new_signing']]\n",
        "y = df['market_value']\n"
      ],
      "metadata": {
        "id": "kdbEuZw80u5u"
      },
      "execution_count": null,
      "outputs": []
    },
    {
      "cell_type": "code",
      "source": [
        "X_train, X_test, y_train, y_test = train_test_split(X, y, test_size=0.2, random_state=42)\n",
        "X_train.to_csv('X_train.csv', index=False)\n",
        "y_train.to_csv('y_train.csv', index=False)\n",
        "X_test.to_csv('X_test.csv', index=False)\n",
        "y_test.to_csv('y_test.csv', index=False)"
      ],
      "metadata": {
        "id": "xzWprCI2uGM-"
      },
      "execution_count": null,
      "outputs": []
    },
    {
      "cell_type": "code",
      "source": [
        "from sklearn.preprocessing import StandardScaler\n",
        "scaler = StandardScaler()\n",
        "scaled_data = scaler.fit_transform(df1)"
      ],
      "metadata": {
        "id": "W-LKBBWnIIm6"
      },
      "execution_count": null,
      "outputs": []
    },
    {
      "cell_type": "markdown",
      "source": [
        "# **SELECTING FEATURES**"
      ],
      "metadata": {
        "id": "ESND2o1xLK8C"
      }
    },
    {
      "cell_type": "code",
      "source": [
        "from sklearn.linear_model import LinearRegression\n",
        "from sklearn.feature_selection import RFE\n",
        "import pandas as pd\n",
        "\n",
        "# create a linear regression object\n",
        "lr = LinearRegression()\n",
        "\n",
        "# create the RFE object and specify the number of features to select\n",
        "rfe = RFE(estimator=lr, n_features_to_select=5, step=1)\n",
        "\n",
        "# fit the RFE object to the data\n",
        "rfe.fit(X, y)\n",
        "\n",
        "# print the selected features\n",
        "print(\"Selected Features:\")\n",
        "print(X.columns[rfe.support_])"
      ],
      "metadata": {
        "colab": {
          "base_uri": "https://localhost:8080/"
        },
        "id": "JXbSIpvMKlUA",
        "outputId": "78b6d425-1d97-4692-cbfe-38e11ec2430e"
      },
      "execution_count": null,
      "outputs": [
        {
          "output_type": "stream",
          "name": "stdout",
          "text": [
            "Selected Features:\n",
            "Index(['position_cat', 'fpl_value', 'age_cat', 'big_club', 'new_signing'], dtype='object')\n"
          ]
        }
      ]
    },
    {
      "cell_type": "code",
      "source": [
        "from sklearn.feature_selection import RFE\n",
        "from sklearn.linear_model import LinearRegression\n",
        "from sklearn.datasets import make_regression\n",
        "\n",
        "# Create a linear regression object\n",
        "model = LinearRegression()\n",
        "\n",
        "# Create an RFE object with the linear regression model\n",
        "rfe = RFE(estimator=model, n_features_to_select=6)\n",
        "\n",
        "# Fit the RFE object to the data\n",
        "rfe.fit(X, y)\n",
        "\n",
        "# Print the selected features\n",
        "selected_features = rfe.support_\n",
        "print(\"Selected Features:\")\n",
        "for i in range(len(selected_features)):\n",
        "    if selected_features[i]:\n",
        "        print(f\"Feature {i+1}\")\n",
        "\n",
        "# Print the feature rankings\n",
        "print(\"Feature Rankings:\")\n",
        "for i in range(len(rfe.ranking_)):\n",
        "    print(f\"Feature {i+1}: {rfe.ranking_[i]}\")"
      ],
      "metadata": {
        "colab": {
          "base_uri": "https://localhost:8080/"
        },
        "id": "dCYE_YXILRic",
        "outputId": "85c12b9d-7067-4261-9902-a257d35c927b"
      },
      "execution_count": null,
      "outputs": [
        {
          "output_type": "stream",
          "name": "stdout",
          "text": [
            "Selected Features:\n",
            "Feature 1\n",
            "Feature 2\n",
            "Feature 5\n",
            "Feature 6\n",
            "Feature 7\n",
            "Feature 8\n",
            "Feature Rankings:\n",
            "Feature 1: 1\n",
            "Feature 2: 1\n",
            "Feature 3: 3\n",
            "Feature 4: 2\n",
            "Feature 5: 1\n",
            "Feature 6: 1\n",
            "Feature 7: 1\n",
            "Feature 8: 1\n"
          ]
        }
      ]
    },
    {
      "cell_type": "markdown",
      "source": [
        "\n",
        "\n",
        "# **final features**"
      ],
      "metadata": {
        "id": "zXapX19Cret-"
      }
    },
    {
      "cell_type": "code",
      "source": [
        "X = df[['position_cat', 'fpl_value', 'new_foreign', 'age_cat', 'big_club',\n",
        "       'new_signing']]\n",
        "y = df['market_value']\n",
        "X_train, X_test, y_train, y_test = train_test_split(X, y, test_size=0.2, random_state=42)"
      ],
      "metadata": {
        "id": "7xCBh_utKotc"
      },
      "execution_count": null,
      "outputs": []
    },
    {
      "cell_type": "code",
      "source": [
        "lr = LinearRegression()\n",
        "lr.fit(X_train, y_train)\n",
        "\n",
        "y_pred = lr.predict(X_test)\n",
        "\n",
        "# Calculate the R^2 score\n",
        "r2 = r2_score(y_test, y_pred)\n",
        "\n",
        "from sklearn.metrics import mean_absolute_error\n",
        "# Calculate the MAE\n",
        "mae = mean_absolute_error(y_test, y_pred)\n",
        "\n",
        "print(\"MAE: %.3f\" % mae)\n",
        "MSE = np.square(np.subtract(y_test, y_pred)).mean()\n",
        "print(\"MSE: %.3f\" % MSE)\n",
        "r2"
      ],
      "metadata": {
        "colab": {
          "base_uri": "https://localhost:8080/"
        },
        "id": "38Rl2AKXKuM1",
        "outputId": "bf41965b-87a1-428d-8f3c-91e8b49fa702"
      },
      "execution_count": null,
      "outputs": [
        {
          "output_type": "stream",
          "name": "stdout",
          "text": [
            "MAE: 3.436\n",
            "MSE: 20.938\n"
          ]
        },
        {
          "output_type": "execute_result",
          "data": {
            "text/plain": [
              "0.8270338664896156"
            ]
          },
          "metadata": {},
          "execution_count": 177
        }
      ]
    },
    {
      "cell_type": "code",
      "source": [
        "X"
      ],
      "metadata": {
        "colab": {
          "base_uri": "https://localhost:8080/",
          "height": 424
        },
        "id": "_ubsgOdBLk6U",
        "outputId": "aa9c515d-24bc-42c5-b796-db97c01a2e3e"
      },
      "execution_count": null,
      "outputs": [
        {
          "output_type": "execute_result",
          "data": {
            "text/plain": [
              "     position_cat  fpl_value  new_foreign  age_cat  big_club  new_signing\n",
              "0               1       12.0            0        4         1            0\n",
              "1               1        9.5            0        4         1            0\n",
              "2               4        5.5            0        6         1            0\n",
              "3               1        7.5            0        4         1            0\n",
              "4               3        6.0            0        4         1            0\n",
              "..            ...        ...          ...      ...       ...          ...\n",
              "456             2        4.5            0        1         0            1\n",
              "457             3        4.5            0        2         0            1\n",
              "458             3        4.5            0        2         0            0\n",
              "459             1        4.5            0        1         0            1\n",
              "460             1        5.5            0        3         0            0\n",
              "\n",
              "[461 rows x 6 columns]"
            ],
            "text/html": [
              "\n",
              "  <div id=\"df-1abb1353-4306-4588-9c42-30a732d29e74\">\n",
              "    <div class=\"colab-df-container\">\n",
              "      <div>\n",
              "<style scoped>\n",
              "    .dataframe tbody tr th:only-of-type {\n",
              "        vertical-align: middle;\n",
              "    }\n",
              "\n",
              "    .dataframe tbody tr th {\n",
              "        vertical-align: top;\n",
              "    }\n",
              "\n",
              "    .dataframe thead th {\n",
              "        text-align: right;\n",
              "    }\n",
              "</style>\n",
              "<table border=\"1\" class=\"dataframe\">\n",
              "  <thead>\n",
              "    <tr style=\"text-align: right;\">\n",
              "      <th></th>\n",
              "      <th>position_cat</th>\n",
              "      <th>fpl_value</th>\n",
              "      <th>new_foreign</th>\n",
              "      <th>age_cat</th>\n",
              "      <th>big_club</th>\n",
              "      <th>new_signing</th>\n",
              "    </tr>\n",
              "  </thead>\n",
              "  <tbody>\n",
              "    <tr>\n",
              "      <th>0</th>\n",
              "      <td>1</td>\n",
              "      <td>12.0</td>\n",
              "      <td>0</td>\n",
              "      <td>4</td>\n",
              "      <td>1</td>\n",
              "      <td>0</td>\n",
              "    </tr>\n",
              "    <tr>\n",
              "      <th>1</th>\n",
              "      <td>1</td>\n",
              "      <td>9.5</td>\n",
              "      <td>0</td>\n",
              "      <td>4</td>\n",
              "      <td>1</td>\n",
              "      <td>0</td>\n",
              "    </tr>\n",
              "    <tr>\n",
              "      <th>2</th>\n",
              "      <td>4</td>\n",
              "      <td>5.5</td>\n",
              "      <td>0</td>\n",
              "      <td>6</td>\n",
              "      <td>1</td>\n",
              "      <td>0</td>\n",
              "    </tr>\n",
              "    <tr>\n",
              "      <th>3</th>\n",
              "      <td>1</td>\n",
              "      <td>7.5</td>\n",
              "      <td>0</td>\n",
              "      <td>4</td>\n",
              "      <td>1</td>\n",
              "      <td>0</td>\n",
              "    </tr>\n",
              "    <tr>\n",
              "      <th>4</th>\n",
              "      <td>3</td>\n",
              "      <td>6.0</td>\n",
              "      <td>0</td>\n",
              "      <td>4</td>\n",
              "      <td>1</td>\n",
              "      <td>0</td>\n",
              "    </tr>\n",
              "    <tr>\n",
              "      <th>...</th>\n",
              "      <td>...</td>\n",
              "      <td>...</td>\n",
              "      <td>...</td>\n",
              "      <td>...</td>\n",
              "      <td>...</td>\n",
              "      <td>...</td>\n",
              "    </tr>\n",
              "    <tr>\n",
              "      <th>456</th>\n",
              "      <td>2</td>\n",
              "      <td>4.5</td>\n",
              "      <td>0</td>\n",
              "      <td>1</td>\n",
              "      <td>0</td>\n",
              "      <td>1</td>\n",
              "    </tr>\n",
              "    <tr>\n",
              "      <th>457</th>\n",
              "      <td>3</td>\n",
              "      <td>4.5</td>\n",
              "      <td>0</td>\n",
              "      <td>2</td>\n",
              "      <td>0</td>\n",
              "      <td>1</td>\n",
              "    </tr>\n",
              "    <tr>\n",
              "      <th>458</th>\n",
              "      <td>3</td>\n",
              "      <td>4.5</td>\n",
              "      <td>0</td>\n",
              "      <td>2</td>\n",
              "      <td>0</td>\n",
              "      <td>0</td>\n",
              "    </tr>\n",
              "    <tr>\n",
              "      <th>459</th>\n",
              "      <td>1</td>\n",
              "      <td>4.5</td>\n",
              "      <td>0</td>\n",
              "      <td>1</td>\n",
              "      <td>0</td>\n",
              "      <td>1</td>\n",
              "    </tr>\n",
              "    <tr>\n",
              "      <th>460</th>\n",
              "      <td>1</td>\n",
              "      <td>5.5</td>\n",
              "      <td>0</td>\n",
              "      <td>3</td>\n",
              "      <td>0</td>\n",
              "      <td>0</td>\n",
              "    </tr>\n",
              "  </tbody>\n",
              "</table>\n",
              "<p>461 rows × 6 columns</p>\n",
              "</div>\n",
              "      <button class=\"colab-df-convert\" onclick=\"convertToInteractive('df-1abb1353-4306-4588-9c42-30a732d29e74')\"\n",
              "              title=\"Convert this dataframe to an interactive table.\"\n",
              "              style=\"display:none;\">\n",
              "        \n",
              "  <svg xmlns=\"http://www.w3.org/2000/svg\" height=\"24px\"viewBox=\"0 0 24 24\"\n",
              "       width=\"24px\">\n",
              "    <path d=\"M0 0h24v24H0V0z\" fill=\"none\"/>\n",
              "    <path d=\"M18.56 5.44l.94 2.06.94-2.06 2.06-.94-2.06-.94-.94-2.06-.94 2.06-2.06.94zm-11 1L8.5 8.5l.94-2.06 2.06-.94-2.06-.94L8.5 2.5l-.94 2.06-2.06.94zm10 10l.94 2.06.94-2.06 2.06-.94-2.06-.94-.94-2.06-.94 2.06-2.06.94z\"/><path d=\"M17.41 7.96l-1.37-1.37c-.4-.4-.92-.59-1.43-.59-.52 0-1.04.2-1.43.59L10.3 9.45l-7.72 7.72c-.78.78-.78 2.05 0 2.83L4 21.41c.39.39.9.59 1.41.59.51 0 1.02-.2 1.41-.59l7.78-7.78 2.81-2.81c.8-.78.8-2.07 0-2.86zM5.41 20L4 18.59l7.72-7.72 1.47 1.35L5.41 20z\"/>\n",
              "  </svg>\n",
              "      </button>\n",
              "      \n",
              "  <style>\n",
              "    .colab-df-container {\n",
              "      display:flex;\n",
              "      flex-wrap:wrap;\n",
              "      gap: 12px;\n",
              "    }\n",
              "\n",
              "    .colab-df-convert {\n",
              "      background-color: #E8F0FE;\n",
              "      border: none;\n",
              "      border-radius: 50%;\n",
              "      cursor: pointer;\n",
              "      display: none;\n",
              "      fill: #1967D2;\n",
              "      height: 32px;\n",
              "      padding: 0 0 0 0;\n",
              "      width: 32px;\n",
              "    }\n",
              "\n",
              "    .colab-df-convert:hover {\n",
              "      background-color: #E2EBFA;\n",
              "      box-shadow: 0px 1px 2px rgba(60, 64, 67, 0.3), 0px 1px 3px 1px rgba(60, 64, 67, 0.15);\n",
              "      fill: #174EA6;\n",
              "    }\n",
              "\n",
              "    [theme=dark] .colab-df-convert {\n",
              "      background-color: #3B4455;\n",
              "      fill: #D2E3FC;\n",
              "    }\n",
              "\n",
              "    [theme=dark] .colab-df-convert:hover {\n",
              "      background-color: #434B5C;\n",
              "      box-shadow: 0px 1px 3px 1px rgba(0, 0, 0, 0.15);\n",
              "      filter: drop-shadow(0px 1px 2px rgba(0, 0, 0, 0.3));\n",
              "      fill: #FFFFFF;\n",
              "    }\n",
              "  </style>\n",
              "\n",
              "      <script>\n",
              "        const buttonEl =\n",
              "          document.querySelector('#df-1abb1353-4306-4588-9c42-30a732d29e74 button.colab-df-convert');\n",
              "        buttonEl.style.display =\n",
              "          google.colab.kernel.accessAllowed ? 'block' : 'none';\n",
              "\n",
              "        async function convertToInteractive(key) {\n",
              "          const element = document.querySelector('#df-1abb1353-4306-4588-9c42-30a732d29e74');\n",
              "          const dataTable =\n",
              "            await google.colab.kernel.invokeFunction('convertToInteractive',\n",
              "                                                     [key], {});\n",
              "          if (!dataTable) return;\n",
              "\n",
              "          const docLinkHtml = 'Like what you see? Visit the ' +\n",
              "            '<a target=\"_blank\" href=https://colab.research.google.com/notebooks/data_table.ipynb>data table notebook</a>'\n",
              "            + ' to learn more about interactive tables.';\n",
              "          element.innerHTML = '';\n",
              "          dataTable['output_type'] = 'display_data';\n",
              "          await google.colab.output.renderOutput(dataTable, element);\n",
              "          const docLink = document.createElement('div');\n",
              "          docLink.innerHTML = docLinkHtml;\n",
              "          element.appendChild(docLink);\n",
              "        }\n",
              "      </script>\n",
              "    </div>\n",
              "  </div>\n",
              "  "
            ]
          },
          "metadata": {},
          "execution_count": 178
        }
      ]
    },
    {
      "cell_type": "markdown",
      "source": [
        "# **OLS REGRESSION**"
      ],
      "metadata": {
        "id": "f0KqacLpLg15"
      }
    },
    {
      "cell_type": "code",
      "source": [
        "import statsmodels.api as sm\n",
        "import statsmodels.api as sm\n",
        "# Add constant term to X array\n",
        "X = sm.add_constant(X)\n",
        "\n",
        "# Fit OLS model\n",
        "ols_model = sm.OLS(y, X).fit()\n",
        "\n",
        "# Print summary of model results\n",
        "print(ols_model.summary())\n",
        "metrics.mean_squared_error(y_test,y_pred)\n",
        "\n",
        "from sklearn.metrics import mean_absolute_error, mean_squared_error\n",
        "\n",
        "# Assuming y_pred contains the predicted values and y_actual contains the actual values\n",
        "from sklearn.metrics import mean_absolute_error, mean_squared_error\n",
        "\n",
        "# Assuming y_pred contains the predicted values and y_actual contains the actual values\n",
        "mae = mean_absolute_error(y_test, y_pred)\n",
        "mse = mean_squared_error(y_test, y_pred)\n",
        "\n",
        "print(\"MAE:\", mae)\n",
        "print(\"MSE:\", mse)\n"
      ],
      "metadata": {
        "colab": {
          "base_uri": "https://localhost:8080/"
        },
        "id": "dRD_78eBLgTx",
        "outputId": "ae3a1bfe-892f-45ad-91c8-67dd7628a14f"
      },
      "execution_count": null,
      "outputs": [
        {
          "output_type": "stream",
          "name": "stdout",
          "text": [
            "                            OLS Regression Results                            \n",
            "==============================================================================\n",
            "Dep. Variable:           market_value   R-squared:                       0.725\n",
            "Model:                            OLS   Adj. R-squared:                  0.721\n",
            "Method:                 Least Squares   F-statistic:                     199.3\n",
            "Date:                Fri, 05 May 2023   Prob (F-statistic):          8.87e-124\n",
            "Time:                        14:16:45   Log-Likelihood:                -1511.6\n",
            "No. Observations:                 461   AIC:                             3037.\n",
            "Df Residuals:                     454   BIC:                             3066.\n",
            "Df Model:                           6                                         \n",
            "Covariance Type:            nonrobust                                         \n",
            "================================================================================\n",
            "                   coef    std err          t      P>|t|      [0.025      0.975]\n",
            "--------------------------------------------------------------------------------\n",
            "const          -31.0197      2.140    -14.495      0.000     -35.225     -26.814\n",
            "position_cat     1.9719      0.372      5.300      0.000       1.241       2.703\n",
            "fpl_value        6.7790      0.300     22.598      0.000       6.189       7.369\n",
            "new_foreign     -0.4087      1.680     -0.243      0.808      -3.710       2.892\n",
            "age_cat         -0.5159      0.245     -2.101      0.036      -0.998      -0.033\n",
            "big_club         7.1182      0.764      9.319      0.000       5.617       8.619\n",
            "new_signing      2.1171      0.867      2.443      0.015       0.414       3.820\n",
            "==============================================================================\n",
            "Omnibus:                      142.899   Durbin-Watson:                   1.742\n",
            "Prob(Omnibus):                  0.000   Jarque-Bera (JB):              852.016\n",
            "Skew:                           1.199   Prob(JB):                    9.70e-186\n",
            "Kurtosis:                       9.213   Cond. No.                         49.9\n",
            "==============================================================================\n",
            "\n",
            "Notes:\n",
            "[1] Standard Errors assume that the covariance matrix of the errors is correctly specified.\n",
            "MAE: 3.435876997754563\n",
            "MSE: 20.93784143810477\n"
          ]
        }
      ]
    },
    {
      "cell_type": "markdown",
      "source": [
        "# **LASSO REGRESSION**"
      ],
      "metadata": {
        "id": "-RG23EW8MAci"
      }
    },
    {
      "cell_type": "code",
      "source": [
        "from sklearn.linear_model import Lasso\n",
        "reg = Lasso(alpha=1)\n",
        "reg.fit(X_train, y_train)"
      ],
      "metadata": {
        "colab": {
          "base_uri": "https://localhost:8080/",
          "height": 75
        },
        "id": "LaULVKP6L35J",
        "outputId": "2b534194-aa37-4017-98e9-7af0242afc3f"
      },
      "execution_count": null,
      "outputs": [
        {
          "output_type": "execute_result",
          "data": {
            "text/plain": [
              "Lasso(alpha=1)"
            ],
            "text/html": [
              "<style>#sk-container-id-1 {color: black;background-color: white;}#sk-container-id-1 pre{padding: 0;}#sk-container-id-1 div.sk-toggleable {background-color: white;}#sk-container-id-1 label.sk-toggleable__label {cursor: pointer;display: block;width: 100%;margin-bottom: 0;padding: 0.3em;box-sizing: border-box;text-align: center;}#sk-container-id-1 label.sk-toggleable__label-arrow:before {content: \"▸\";float: left;margin-right: 0.25em;color: #696969;}#sk-container-id-1 label.sk-toggleable__label-arrow:hover:before {color: black;}#sk-container-id-1 div.sk-estimator:hover label.sk-toggleable__label-arrow:before {color: black;}#sk-container-id-1 div.sk-toggleable__content {max-height: 0;max-width: 0;overflow: hidden;text-align: left;background-color: #f0f8ff;}#sk-container-id-1 div.sk-toggleable__content pre {margin: 0.2em;color: black;border-radius: 0.25em;background-color: #f0f8ff;}#sk-container-id-1 input.sk-toggleable__control:checked~div.sk-toggleable__content {max-height: 200px;max-width: 100%;overflow: auto;}#sk-container-id-1 input.sk-toggleable__control:checked~label.sk-toggleable__label-arrow:before {content: \"▾\";}#sk-container-id-1 div.sk-estimator input.sk-toggleable__control:checked~label.sk-toggleable__label {background-color: #d4ebff;}#sk-container-id-1 div.sk-label input.sk-toggleable__control:checked~label.sk-toggleable__label {background-color: #d4ebff;}#sk-container-id-1 input.sk-hidden--visually {border: 0;clip: rect(1px 1px 1px 1px);clip: rect(1px, 1px, 1px, 1px);height: 1px;margin: -1px;overflow: hidden;padding: 0;position: absolute;width: 1px;}#sk-container-id-1 div.sk-estimator {font-family: monospace;background-color: #f0f8ff;border: 1px dotted black;border-radius: 0.25em;box-sizing: border-box;margin-bottom: 0.5em;}#sk-container-id-1 div.sk-estimator:hover {background-color: #d4ebff;}#sk-container-id-1 div.sk-parallel-item::after {content: \"\";width: 100%;border-bottom: 1px solid gray;flex-grow: 1;}#sk-container-id-1 div.sk-label:hover label.sk-toggleable__label {background-color: #d4ebff;}#sk-container-id-1 div.sk-serial::before {content: \"\";position: absolute;border-left: 1px solid gray;box-sizing: border-box;top: 0;bottom: 0;left: 50%;z-index: 0;}#sk-container-id-1 div.sk-serial {display: flex;flex-direction: column;align-items: center;background-color: white;padding-right: 0.2em;padding-left: 0.2em;position: relative;}#sk-container-id-1 div.sk-item {position: relative;z-index: 1;}#sk-container-id-1 div.sk-parallel {display: flex;align-items: stretch;justify-content: center;background-color: white;position: relative;}#sk-container-id-1 div.sk-item::before, #sk-container-id-1 div.sk-parallel-item::before {content: \"\";position: absolute;border-left: 1px solid gray;box-sizing: border-box;top: 0;bottom: 0;left: 50%;z-index: -1;}#sk-container-id-1 div.sk-parallel-item {display: flex;flex-direction: column;z-index: 1;position: relative;background-color: white;}#sk-container-id-1 div.sk-parallel-item:first-child::after {align-self: flex-end;width: 50%;}#sk-container-id-1 div.sk-parallel-item:last-child::after {align-self: flex-start;width: 50%;}#sk-container-id-1 div.sk-parallel-item:only-child::after {width: 0;}#sk-container-id-1 div.sk-dashed-wrapped {border: 1px dashed gray;margin: 0 0.4em 0.5em 0.4em;box-sizing: border-box;padding-bottom: 0.4em;background-color: white;}#sk-container-id-1 div.sk-label label {font-family: monospace;font-weight: bold;display: inline-block;line-height: 1.2em;}#sk-container-id-1 div.sk-label-container {text-align: center;}#sk-container-id-1 div.sk-container {/* jupyter's `normalize.less` sets `[hidden] { display: none; }` but bootstrap.min.css set `[hidden] { display: none !important; }` so we also need the `!important` here to be able to override the default hidden behavior on the sphinx rendered scikit-learn.org. See: https://github.com/scikit-learn/scikit-learn/issues/21755 */display: inline-block !important;position: relative;}#sk-container-id-1 div.sk-text-repr-fallback {display: none;}</style><div id=\"sk-container-id-1\" class=\"sk-top-container\"><div class=\"sk-text-repr-fallback\"><pre>Lasso(alpha=1)</pre><b>In a Jupyter environment, please rerun this cell to show the HTML representation or trust the notebook. <br />On GitHub, the HTML representation is unable to render, please try loading this page with nbviewer.org.</b></div><div class=\"sk-container\" hidden><div class=\"sk-item\"><div class=\"sk-estimator sk-toggleable\"><input class=\"sk-toggleable__control sk-hidden--visually\" id=\"sk-estimator-id-1\" type=\"checkbox\" checked><label for=\"sk-estimator-id-1\" class=\"sk-toggleable__label sk-toggleable__label-arrow\">Lasso</label><div class=\"sk-toggleable__content\"><pre>Lasso(alpha=1)</pre></div></div></div></div></div>"
            ]
          },
          "metadata": {},
          "execution_count": 180
        }
      ]
    },
    {
      "cell_type": "code",
      "source": [
        "print('R squared training set', round(reg.score(X_train, y_train)*100, 2))\n",
        "print('R squared test set', round(reg.score(X_test, y_test)*100, 2))"
      ],
      "metadata": {
        "colab": {
          "base_uri": "https://localhost:8080/"
        },
        "id": "ymKLVt0nMJVj",
        "outputId": "82556a27-328b-42c0-f579-a2802d829b63"
      },
      "execution_count": null,
      "outputs": [
        {
          "output_type": "stream",
          "name": "stdout",
          "text": [
            "R squared training set 66.02\n",
            "R squared test set 78.99\n"
          ]
        }
      ]
    },
    {
      "cell_type": "markdown",
      "source": [
        "# **LASSO HYPERPARAMETER TUNING**"
      ],
      "metadata": {
        "id": "ow2IybnWMWmw"
      }
    },
    {
      "cell_type": "code",
      "source": [
        "from sklearn.linear_model import LassoCV\n",
        "\n",
        "# Lasso with 5 fold cross-validation\n",
        "model = LassoCV(cv=5, random_state=0, max_iter=10000)\n",
        "\n",
        "# Fit model\n",
        "model.fit(X_train, y_train)"
      ],
      "metadata": {
        "colab": {
          "base_uri": "https://localhost:8080/",
          "height": 75
        },
        "id": "x0Q8dh5pMRlZ",
        "outputId": "2632b1c5-3a3d-4910-b4c5-a1f84e00dd02"
      },
      "execution_count": null,
      "outputs": [
        {
          "output_type": "execute_result",
          "data": {
            "text/plain": [
              "LassoCV(cv=5, max_iter=10000, random_state=0)"
            ],
            "text/html": [
              "<style>#sk-container-id-2 {color: black;background-color: white;}#sk-container-id-2 pre{padding: 0;}#sk-container-id-2 div.sk-toggleable {background-color: white;}#sk-container-id-2 label.sk-toggleable__label {cursor: pointer;display: block;width: 100%;margin-bottom: 0;padding: 0.3em;box-sizing: border-box;text-align: center;}#sk-container-id-2 label.sk-toggleable__label-arrow:before {content: \"▸\";float: left;margin-right: 0.25em;color: #696969;}#sk-container-id-2 label.sk-toggleable__label-arrow:hover:before {color: black;}#sk-container-id-2 div.sk-estimator:hover label.sk-toggleable__label-arrow:before {color: black;}#sk-container-id-2 div.sk-toggleable__content {max-height: 0;max-width: 0;overflow: hidden;text-align: left;background-color: #f0f8ff;}#sk-container-id-2 div.sk-toggleable__content pre {margin: 0.2em;color: black;border-radius: 0.25em;background-color: #f0f8ff;}#sk-container-id-2 input.sk-toggleable__control:checked~div.sk-toggleable__content {max-height: 200px;max-width: 100%;overflow: auto;}#sk-container-id-2 input.sk-toggleable__control:checked~label.sk-toggleable__label-arrow:before {content: \"▾\";}#sk-container-id-2 div.sk-estimator input.sk-toggleable__control:checked~label.sk-toggleable__label {background-color: #d4ebff;}#sk-container-id-2 div.sk-label input.sk-toggleable__control:checked~label.sk-toggleable__label {background-color: #d4ebff;}#sk-container-id-2 input.sk-hidden--visually {border: 0;clip: rect(1px 1px 1px 1px);clip: rect(1px, 1px, 1px, 1px);height: 1px;margin: -1px;overflow: hidden;padding: 0;position: absolute;width: 1px;}#sk-container-id-2 div.sk-estimator {font-family: monospace;background-color: #f0f8ff;border: 1px dotted black;border-radius: 0.25em;box-sizing: border-box;margin-bottom: 0.5em;}#sk-container-id-2 div.sk-estimator:hover {background-color: #d4ebff;}#sk-container-id-2 div.sk-parallel-item::after {content: \"\";width: 100%;border-bottom: 1px solid gray;flex-grow: 1;}#sk-container-id-2 div.sk-label:hover label.sk-toggleable__label {background-color: #d4ebff;}#sk-container-id-2 div.sk-serial::before {content: \"\";position: absolute;border-left: 1px solid gray;box-sizing: border-box;top: 0;bottom: 0;left: 50%;z-index: 0;}#sk-container-id-2 div.sk-serial {display: flex;flex-direction: column;align-items: center;background-color: white;padding-right: 0.2em;padding-left: 0.2em;position: relative;}#sk-container-id-2 div.sk-item {position: relative;z-index: 1;}#sk-container-id-2 div.sk-parallel {display: flex;align-items: stretch;justify-content: center;background-color: white;position: relative;}#sk-container-id-2 div.sk-item::before, #sk-container-id-2 div.sk-parallel-item::before {content: \"\";position: absolute;border-left: 1px solid gray;box-sizing: border-box;top: 0;bottom: 0;left: 50%;z-index: -1;}#sk-container-id-2 div.sk-parallel-item {display: flex;flex-direction: column;z-index: 1;position: relative;background-color: white;}#sk-container-id-2 div.sk-parallel-item:first-child::after {align-self: flex-end;width: 50%;}#sk-container-id-2 div.sk-parallel-item:last-child::after {align-self: flex-start;width: 50%;}#sk-container-id-2 div.sk-parallel-item:only-child::after {width: 0;}#sk-container-id-2 div.sk-dashed-wrapped {border: 1px dashed gray;margin: 0 0.4em 0.5em 0.4em;box-sizing: border-box;padding-bottom: 0.4em;background-color: white;}#sk-container-id-2 div.sk-label label {font-family: monospace;font-weight: bold;display: inline-block;line-height: 1.2em;}#sk-container-id-2 div.sk-label-container {text-align: center;}#sk-container-id-2 div.sk-container {/* jupyter's `normalize.less` sets `[hidden] { display: none; }` but bootstrap.min.css set `[hidden] { display: none !important; }` so we also need the `!important` here to be able to override the default hidden behavior on the sphinx rendered scikit-learn.org. See: https://github.com/scikit-learn/scikit-learn/issues/21755 */display: inline-block !important;position: relative;}#sk-container-id-2 div.sk-text-repr-fallback {display: none;}</style><div id=\"sk-container-id-2\" class=\"sk-top-container\"><div class=\"sk-text-repr-fallback\"><pre>LassoCV(cv=5, max_iter=10000, random_state=0)</pre><b>In a Jupyter environment, please rerun this cell to show the HTML representation or trust the notebook. <br />On GitHub, the HTML representation is unable to render, please try loading this page with nbviewer.org.</b></div><div class=\"sk-container\" hidden><div class=\"sk-item\"><div class=\"sk-estimator sk-toggleable\"><input class=\"sk-toggleable__control sk-hidden--visually\" id=\"sk-estimator-id-2\" type=\"checkbox\" checked><label for=\"sk-estimator-id-2\" class=\"sk-toggleable__label sk-toggleable__label-arrow\">LassoCV</label><div class=\"sk-toggleable__content\"><pre>LassoCV(cv=5, max_iter=10000, random_state=0)</pre></div></div></div></div></div>"
            ]
          },
          "metadata": {},
          "execution_count": 182
        }
      ]
    },
    {
      "cell_type": "code",
      "source": [
        "LassoCV(cv=5, max_iter=10000, random_state=0)"
      ],
      "metadata": {
        "colab": {
          "base_uri": "https://localhost:8080/",
          "height": 75
        },
        "id": "fvxRRZAVMTOV",
        "outputId": "8c2db5bd-966c-46a0-ec56-b2b2b941a588"
      },
      "execution_count": null,
      "outputs": [
        {
          "output_type": "execute_result",
          "data": {
            "text/plain": [
              "LassoCV(cv=5, max_iter=10000, random_state=0)"
            ],
            "text/html": [
              "<style>#sk-container-id-3 {color: black;background-color: white;}#sk-container-id-3 pre{padding: 0;}#sk-container-id-3 div.sk-toggleable {background-color: white;}#sk-container-id-3 label.sk-toggleable__label {cursor: pointer;display: block;width: 100%;margin-bottom: 0;padding: 0.3em;box-sizing: border-box;text-align: center;}#sk-container-id-3 label.sk-toggleable__label-arrow:before {content: \"▸\";float: left;margin-right: 0.25em;color: #696969;}#sk-container-id-3 label.sk-toggleable__label-arrow:hover:before {color: black;}#sk-container-id-3 div.sk-estimator:hover label.sk-toggleable__label-arrow:before {color: black;}#sk-container-id-3 div.sk-toggleable__content {max-height: 0;max-width: 0;overflow: hidden;text-align: left;background-color: #f0f8ff;}#sk-container-id-3 div.sk-toggleable__content pre {margin: 0.2em;color: black;border-radius: 0.25em;background-color: #f0f8ff;}#sk-container-id-3 input.sk-toggleable__control:checked~div.sk-toggleable__content {max-height: 200px;max-width: 100%;overflow: auto;}#sk-container-id-3 input.sk-toggleable__control:checked~label.sk-toggleable__label-arrow:before {content: \"▾\";}#sk-container-id-3 div.sk-estimator input.sk-toggleable__control:checked~label.sk-toggleable__label {background-color: #d4ebff;}#sk-container-id-3 div.sk-label input.sk-toggleable__control:checked~label.sk-toggleable__label {background-color: #d4ebff;}#sk-container-id-3 input.sk-hidden--visually {border: 0;clip: rect(1px 1px 1px 1px);clip: rect(1px, 1px, 1px, 1px);height: 1px;margin: -1px;overflow: hidden;padding: 0;position: absolute;width: 1px;}#sk-container-id-3 div.sk-estimator {font-family: monospace;background-color: #f0f8ff;border: 1px dotted black;border-radius: 0.25em;box-sizing: border-box;margin-bottom: 0.5em;}#sk-container-id-3 div.sk-estimator:hover {background-color: #d4ebff;}#sk-container-id-3 div.sk-parallel-item::after {content: \"\";width: 100%;border-bottom: 1px solid gray;flex-grow: 1;}#sk-container-id-3 div.sk-label:hover label.sk-toggleable__label {background-color: #d4ebff;}#sk-container-id-3 div.sk-serial::before {content: \"\";position: absolute;border-left: 1px solid gray;box-sizing: border-box;top: 0;bottom: 0;left: 50%;z-index: 0;}#sk-container-id-3 div.sk-serial {display: flex;flex-direction: column;align-items: center;background-color: white;padding-right: 0.2em;padding-left: 0.2em;position: relative;}#sk-container-id-3 div.sk-item {position: relative;z-index: 1;}#sk-container-id-3 div.sk-parallel {display: flex;align-items: stretch;justify-content: center;background-color: white;position: relative;}#sk-container-id-3 div.sk-item::before, #sk-container-id-3 div.sk-parallel-item::before {content: \"\";position: absolute;border-left: 1px solid gray;box-sizing: border-box;top: 0;bottom: 0;left: 50%;z-index: -1;}#sk-container-id-3 div.sk-parallel-item {display: flex;flex-direction: column;z-index: 1;position: relative;background-color: white;}#sk-container-id-3 div.sk-parallel-item:first-child::after {align-self: flex-end;width: 50%;}#sk-container-id-3 div.sk-parallel-item:last-child::after {align-self: flex-start;width: 50%;}#sk-container-id-3 div.sk-parallel-item:only-child::after {width: 0;}#sk-container-id-3 div.sk-dashed-wrapped {border: 1px dashed gray;margin: 0 0.4em 0.5em 0.4em;box-sizing: border-box;padding-bottom: 0.4em;background-color: white;}#sk-container-id-3 div.sk-label label {font-family: monospace;font-weight: bold;display: inline-block;line-height: 1.2em;}#sk-container-id-3 div.sk-label-container {text-align: center;}#sk-container-id-3 div.sk-container {/* jupyter's `normalize.less` sets `[hidden] { display: none; }` but bootstrap.min.css set `[hidden] { display: none !important; }` so we also need the `!important` here to be able to override the default hidden behavior on the sphinx rendered scikit-learn.org. See: https://github.com/scikit-learn/scikit-learn/issues/21755 */display: inline-block !important;position: relative;}#sk-container-id-3 div.sk-text-repr-fallback {display: none;}</style><div id=\"sk-container-id-3\" class=\"sk-top-container\"><div class=\"sk-text-repr-fallback\"><pre>LassoCV(cv=5, max_iter=10000, random_state=0)</pre><b>In a Jupyter environment, please rerun this cell to show the HTML representation or trust the notebook. <br />On GitHub, the HTML representation is unable to render, please try loading this page with nbviewer.org.</b></div><div class=\"sk-container\" hidden><div class=\"sk-item\"><div class=\"sk-estimator sk-toggleable\"><input class=\"sk-toggleable__control sk-hidden--visually\" id=\"sk-estimator-id-3\" type=\"checkbox\" checked><label for=\"sk-estimator-id-3\" class=\"sk-toggleable__label sk-toggleable__label-arrow\">LassoCV</label><div class=\"sk-toggleable__content\"><pre>LassoCV(cv=5, max_iter=10000, random_state=0)</pre></div></div></div></div></div>"
            ]
          },
          "metadata": {},
          "execution_count": 183
        }
      ]
    },
    {
      "cell_type": "code",
      "source": [
        "model.alpha_\n"
      ],
      "metadata": {
        "colab": {
          "base_uri": "https://localhost:8080/"
        },
        "id": "gsNKMpO-MU-k",
        "outputId": "422e933c-a9d1-4c1f-e544-4b6af9eb1d32"
      },
      "execution_count": null,
      "outputs": [
        {
          "output_type": "execute_result",
          "data": {
            "text/plain": [
              "0.06526422224030301"
            ]
          },
          "metadata": {},
          "execution_count": 184
        }
      ]
    },
    {
      "cell_type": "code",
      "source": [
        "Lasso(alpha=0.06526422224030301)"
      ],
      "metadata": {
        "colab": {
          "base_uri": "https://localhost:8080/",
          "height": 75
        },
        "id": "XD6ViWwSMfkb",
        "outputId": "df33eeeb-9ef6-4435-ede1-6fc1ddab50fb"
      },
      "execution_count": null,
      "outputs": [
        {
          "output_type": "execute_result",
          "data": {
            "text/plain": [
              "Lasso(alpha=0.06526422224030301)"
            ],
            "text/html": [
              "<style>#sk-container-id-5 {color: black;background-color: white;}#sk-container-id-5 pre{padding: 0;}#sk-container-id-5 div.sk-toggleable {background-color: white;}#sk-container-id-5 label.sk-toggleable__label {cursor: pointer;display: block;width: 100%;margin-bottom: 0;padding: 0.3em;box-sizing: border-box;text-align: center;}#sk-container-id-5 label.sk-toggleable__label-arrow:before {content: \"▸\";float: left;margin-right: 0.25em;color: #696969;}#sk-container-id-5 label.sk-toggleable__label-arrow:hover:before {color: black;}#sk-container-id-5 div.sk-estimator:hover label.sk-toggleable__label-arrow:before {color: black;}#sk-container-id-5 div.sk-toggleable__content {max-height: 0;max-width: 0;overflow: hidden;text-align: left;background-color: #f0f8ff;}#sk-container-id-5 div.sk-toggleable__content pre {margin: 0.2em;color: black;border-radius: 0.25em;background-color: #f0f8ff;}#sk-container-id-5 input.sk-toggleable__control:checked~div.sk-toggleable__content {max-height: 200px;max-width: 100%;overflow: auto;}#sk-container-id-5 input.sk-toggleable__control:checked~label.sk-toggleable__label-arrow:before {content: \"▾\";}#sk-container-id-5 div.sk-estimator input.sk-toggleable__control:checked~label.sk-toggleable__label {background-color: #d4ebff;}#sk-container-id-5 div.sk-label input.sk-toggleable__control:checked~label.sk-toggleable__label {background-color: #d4ebff;}#sk-container-id-5 input.sk-hidden--visually {border: 0;clip: rect(1px 1px 1px 1px);clip: rect(1px, 1px, 1px, 1px);height: 1px;margin: -1px;overflow: hidden;padding: 0;position: absolute;width: 1px;}#sk-container-id-5 div.sk-estimator {font-family: monospace;background-color: #f0f8ff;border: 1px dotted black;border-radius: 0.25em;box-sizing: border-box;margin-bottom: 0.5em;}#sk-container-id-5 div.sk-estimator:hover {background-color: #d4ebff;}#sk-container-id-5 div.sk-parallel-item::after {content: \"\";width: 100%;border-bottom: 1px solid gray;flex-grow: 1;}#sk-container-id-5 div.sk-label:hover label.sk-toggleable__label {background-color: #d4ebff;}#sk-container-id-5 div.sk-serial::before {content: \"\";position: absolute;border-left: 1px solid gray;box-sizing: border-box;top: 0;bottom: 0;left: 50%;z-index: 0;}#sk-container-id-5 div.sk-serial {display: flex;flex-direction: column;align-items: center;background-color: white;padding-right: 0.2em;padding-left: 0.2em;position: relative;}#sk-container-id-5 div.sk-item {position: relative;z-index: 1;}#sk-container-id-5 div.sk-parallel {display: flex;align-items: stretch;justify-content: center;background-color: white;position: relative;}#sk-container-id-5 div.sk-item::before, #sk-container-id-5 div.sk-parallel-item::before {content: \"\";position: absolute;border-left: 1px solid gray;box-sizing: border-box;top: 0;bottom: 0;left: 50%;z-index: -1;}#sk-container-id-5 div.sk-parallel-item {display: flex;flex-direction: column;z-index: 1;position: relative;background-color: white;}#sk-container-id-5 div.sk-parallel-item:first-child::after {align-self: flex-end;width: 50%;}#sk-container-id-5 div.sk-parallel-item:last-child::after {align-self: flex-start;width: 50%;}#sk-container-id-5 div.sk-parallel-item:only-child::after {width: 0;}#sk-container-id-5 div.sk-dashed-wrapped {border: 1px dashed gray;margin: 0 0.4em 0.5em 0.4em;box-sizing: border-box;padding-bottom: 0.4em;background-color: white;}#sk-container-id-5 div.sk-label label {font-family: monospace;font-weight: bold;display: inline-block;line-height: 1.2em;}#sk-container-id-5 div.sk-label-container {text-align: center;}#sk-container-id-5 div.sk-container {/* jupyter's `normalize.less` sets `[hidden] { display: none; }` but bootstrap.min.css set `[hidden] { display: none !important; }` so we also need the `!important` here to be able to override the default hidden behavior on the sphinx rendered scikit-learn.org. See: https://github.com/scikit-learn/scikit-learn/issues/21755 */display: inline-block !important;position: relative;}#sk-container-id-5 div.sk-text-repr-fallback {display: none;}</style><div id=\"sk-container-id-5\" class=\"sk-top-container\"><div class=\"sk-text-repr-fallback\"><pre>Lasso(alpha=0.06526422224030301)</pre><b>In a Jupyter environment, please rerun this cell to show the HTML representation or trust the notebook. <br />On GitHub, the HTML representation is unable to render, please try loading this page with nbviewer.org.</b></div><div class=\"sk-container\" hidden><div class=\"sk-item\"><div class=\"sk-estimator sk-toggleable\"><input class=\"sk-toggleable__control sk-hidden--visually\" id=\"sk-estimator-id-5\" type=\"checkbox\" checked><label for=\"sk-estimator-id-5\" class=\"sk-toggleable__label sk-toggleable__label-arrow\">Lasso</label><div class=\"sk-toggleable__content\"><pre>Lasso(alpha=0.06526422224030301)</pre></div></div></div></div></div>"
            ]
          },
          "metadata": {},
          "execution_count": 186
        }
      ]
    },
    {
      "cell_type": "code",
      "source": [
        "# Set best alpha\n",
        "lasso_best = Lasso(alpha=model.alpha_)\n",
        "lasso_best.fit(X_train, y_train)"
      ],
      "metadata": {
        "colab": {
          "base_uri": "https://localhost:8080/",
          "height": 75
        },
        "id": "Bx1R3nfHMqpR",
        "outputId": "4b209416-49fe-48a0-8f99-40601dd13c78"
      },
      "execution_count": null,
      "outputs": [
        {
          "output_type": "execute_result",
          "data": {
            "text/plain": [
              "Lasso(alpha=0.06526422224030301)"
            ],
            "text/html": [
              "<style>#sk-container-id-6 {color: black;background-color: white;}#sk-container-id-6 pre{padding: 0;}#sk-container-id-6 div.sk-toggleable {background-color: white;}#sk-container-id-6 label.sk-toggleable__label {cursor: pointer;display: block;width: 100%;margin-bottom: 0;padding: 0.3em;box-sizing: border-box;text-align: center;}#sk-container-id-6 label.sk-toggleable__label-arrow:before {content: \"▸\";float: left;margin-right: 0.25em;color: #696969;}#sk-container-id-6 label.sk-toggleable__label-arrow:hover:before {color: black;}#sk-container-id-6 div.sk-estimator:hover label.sk-toggleable__label-arrow:before {color: black;}#sk-container-id-6 div.sk-toggleable__content {max-height: 0;max-width: 0;overflow: hidden;text-align: left;background-color: #f0f8ff;}#sk-container-id-6 div.sk-toggleable__content pre {margin: 0.2em;color: black;border-radius: 0.25em;background-color: #f0f8ff;}#sk-container-id-6 input.sk-toggleable__control:checked~div.sk-toggleable__content {max-height: 200px;max-width: 100%;overflow: auto;}#sk-container-id-6 input.sk-toggleable__control:checked~label.sk-toggleable__label-arrow:before {content: \"▾\";}#sk-container-id-6 div.sk-estimator input.sk-toggleable__control:checked~label.sk-toggleable__label {background-color: #d4ebff;}#sk-container-id-6 div.sk-label input.sk-toggleable__control:checked~label.sk-toggleable__label {background-color: #d4ebff;}#sk-container-id-6 input.sk-hidden--visually {border: 0;clip: rect(1px 1px 1px 1px);clip: rect(1px, 1px, 1px, 1px);height: 1px;margin: -1px;overflow: hidden;padding: 0;position: absolute;width: 1px;}#sk-container-id-6 div.sk-estimator {font-family: monospace;background-color: #f0f8ff;border: 1px dotted black;border-radius: 0.25em;box-sizing: border-box;margin-bottom: 0.5em;}#sk-container-id-6 div.sk-estimator:hover {background-color: #d4ebff;}#sk-container-id-6 div.sk-parallel-item::after {content: \"\";width: 100%;border-bottom: 1px solid gray;flex-grow: 1;}#sk-container-id-6 div.sk-label:hover label.sk-toggleable__label {background-color: #d4ebff;}#sk-container-id-6 div.sk-serial::before {content: \"\";position: absolute;border-left: 1px solid gray;box-sizing: border-box;top: 0;bottom: 0;left: 50%;z-index: 0;}#sk-container-id-6 div.sk-serial {display: flex;flex-direction: column;align-items: center;background-color: white;padding-right: 0.2em;padding-left: 0.2em;position: relative;}#sk-container-id-6 div.sk-item {position: relative;z-index: 1;}#sk-container-id-6 div.sk-parallel {display: flex;align-items: stretch;justify-content: center;background-color: white;position: relative;}#sk-container-id-6 div.sk-item::before, #sk-container-id-6 div.sk-parallel-item::before {content: \"\";position: absolute;border-left: 1px solid gray;box-sizing: border-box;top: 0;bottom: 0;left: 50%;z-index: -1;}#sk-container-id-6 div.sk-parallel-item {display: flex;flex-direction: column;z-index: 1;position: relative;background-color: white;}#sk-container-id-6 div.sk-parallel-item:first-child::after {align-self: flex-end;width: 50%;}#sk-container-id-6 div.sk-parallel-item:last-child::after {align-self: flex-start;width: 50%;}#sk-container-id-6 div.sk-parallel-item:only-child::after {width: 0;}#sk-container-id-6 div.sk-dashed-wrapped {border: 1px dashed gray;margin: 0 0.4em 0.5em 0.4em;box-sizing: border-box;padding-bottom: 0.4em;background-color: white;}#sk-container-id-6 div.sk-label label {font-family: monospace;font-weight: bold;display: inline-block;line-height: 1.2em;}#sk-container-id-6 div.sk-label-container {text-align: center;}#sk-container-id-6 div.sk-container {/* jupyter's `normalize.less` sets `[hidden] { display: none; }` but bootstrap.min.css set `[hidden] { display: none !important; }` so we also need the `!important` here to be able to override the default hidden behavior on the sphinx rendered scikit-learn.org. See: https://github.com/scikit-learn/scikit-learn/issues/21755 */display: inline-block !important;position: relative;}#sk-container-id-6 div.sk-text-repr-fallback {display: none;}</style><div id=\"sk-container-id-6\" class=\"sk-top-container\"><div class=\"sk-text-repr-fallback\"><pre>Lasso(alpha=0.06526422224030301)</pre><b>In a Jupyter environment, please rerun this cell to show the HTML representation or trust the notebook. <br />On GitHub, the HTML representation is unable to render, please try loading this page with nbviewer.org.</b></div><div class=\"sk-container\" hidden><div class=\"sk-item\"><div class=\"sk-estimator sk-toggleable\"><input class=\"sk-toggleable__control sk-hidden--visually\" id=\"sk-estimator-id-6\" type=\"checkbox\" checked><label for=\"sk-estimator-id-6\" class=\"sk-toggleable__label sk-toggleable__label-arrow\">Lasso</label><div class=\"sk-toggleable__content\"><pre>Lasso(alpha=0.06526422224030301)</pre></div></div></div></div></div>"
            ]
          },
          "metadata": {},
          "execution_count": 189
        }
      ]
    },
    {
      "cell_type": "code",
      "source": [
        "print(list(zip(lasso_best.coef_, X)))"
      ],
      "metadata": {
        "colab": {
          "base_uri": "https://localhost:8080/"
        },
        "id": "yw8IQ4SqMnpY",
        "outputId": "0a21695e-597e-444a-fee6-77696a3ea572"
      },
      "execution_count": null,
      "outputs": [
        {
          "output_type": "stream",
          "name": "stdout",
          "text": [
            "[(2.005947466211149, 'const'), (6.721851623186316, 'position_cat'), (-0.0, 'fpl_value'), (-0.503921958120846, 'new_foreign'), (6.874064518723824, 'age_cat'), (1.5465445067171228, 'big_club')]\n"
          ]
        }
      ]
    },
    {
      "cell_type": "code",
      "source": [
        "print('R squared training set', round(lasso_best.score(X_train, y_train)*100, 2))\n",
        "print('R squared test set', round(lasso_best.score(X_test, y_test)*100, 2))"
      ],
      "metadata": {
        "colab": {
          "base_uri": "https://localhost:8080/"
        },
        "id": "tAguUWTbMkzp",
        "outputId": "36a2061e-563b-4ee0-a5e7-3a7038ce6a3e"
      },
      "execution_count": null,
      "outputs": [
        {
          "output_type": "stream",
          "name": "stdout",
          "text": [
            "R squared training set 70.22\n",
            "R squared test set 82.72\n"
          ]
        }
      ]
    },
    {
      "cell_type": "code",
      "source": [
        "from sklearn.linear_model import Lasso\n",
        "from sklearn.metrics import mean_squared_error, r2_score\n",
        "from sklearn.model_selection import cross_val_score\n",
        "\n",
        "model_lasso = Lasso(alpha=0.0001)\n",
        "model_lasso.fit(X_train, y_train)\n",
        "pred_lasso = model_lasso.predict(X_test)\n",
        "\n",
        "print(\"MSE score:\", np.sqrt(mean_squared_error(y_test, pred_lasso)))\n",
        "print(\"R2 score:\", r2_score(y_test, pred_lasso))\n",
        "\n",
        "cv = 5  # Number of cross-validation folds\n",
        "scores = cross_val_score(model_lasso, X, y, scoring='neg_mean_absolute_error', cv=cv, n_jobs=-1)\n",
        "scores = np.absolute(scores)  # Force scores to be positive\n",
        "print('Mean MAE: %.3f (%.3f)' % (np.mean(scores), np.std(scores)))\n"
      ],
      "metadata": {
        "colab": {
          "base_uri": "https://localhost:8080/"
        },
        "id": "C-kD7tfvNKu8",
        "outputId": "e3666204-65b3-4ebf-8d09-21a514212dc2"
      },
      "execution_count": null,
      "outputs": [
        {
          "output_type": "stream",
          "name": "stdout",
          "text": [
            "MSE score: 4.575772785882775\n",
            "R2 score: 0.8270350630866116\n",
            "Mean MAE: 4.430 (0.985)\n"
          ]
        }
      ]
    },
    {
      "cell_type": "markdown",
      "source": [
        "# **RIDGE REGRESION**"
      ],
      "metadata": {
        "id": "tQ5CrV9xNO8L"
      }
    },
    {
      "cell_type": "code",
      "source": [
        "from sklearn.linear_model import Ridge\n",
        "from sklearn.metrics import mean_squared_error, r2_score\n",
        "from sklearn.model_selection import cross_val_score, RepeatedKFold\n",
        "\n",
        "model_Ridge = Ridge(alpha=1.0)\n",
        "model_Ridge.fit(X_train, y_train)\n",
        "pred_Ridge = model_Ridge.predict(X_test)\n",
        "\n",
        "print(\"MSE score:\", np.sqrt(mean_squared_error(y_test, pred_Ridge)))\n",
        "print(\"R2 score:\", r2_score(y_test, pred_Ridge))\n",
        "\n",
        "cv = RepeatedKFold(n_splits=3, n_repeats=3, random_state=1)\n",
        "scores = cross_val_score(model_Ridge, X, y, scoring='neg_mean_absolute_error', cv=cv, n_jobs=-1)\n",
        "scores = np.absolute(scores)  # Force scores to be positive\n",
        "print('Mean MAE: %.3f (%.3f)' % (np.mean(scores), np.std(scores)))\n"
      ],
      "metadata": {
        "colab": {
          "base_uri": "https://localhost:8080/"
        },
        "id": "PAIqu0BQNOeO",
        "outputId": "1df89f3f-15df-44da-f01c-50bfd8ac9781"
      },
      "execution_count": null,
      "outputs": [
        {
          "output_type": "stream",
          "name": "stdout",
          "text": [
            "MSE score: 4.5756846950269505\n",
            "R2 score: 0.8270417227191452\n",
            "Mean MAE: 4.272 (0.276)\n"
          ]
        }
      ]
    },
    {
      "cell_type": "markdown",
      "source": [
        "# **HYPERPARAMETER TUNING**"
      ],
      "metadata": {
        "id": "Trid9HM0NrME"
      }
    },
    {
      "cell_type": "code",
      "source": [
        "from numpy import arange\n",
        "from sklearn.model_selection import RepeatedKFold\n",
        "from sklearn.linear_model import RidgeCV\n",
        "\n",
        "# Define cross-validation method to evaluate the model\n",
        "cv = RepeatedKFold(n_splits=10, n_repeats=3, random_state=1)\n",
        "\n",
        "# Define the model\n",
        "model = RidgeCV(alphas=arange(0.0001, 1, 0.01), cv=cv, scoring='neg_mean_absolute_error')\n",
        "\n",
        "# Fit the model\n",
        "model.fit(X, y)\n",
        "\n",
        "# Display the lambda (alpha) that produced the lowest test MAE\n",
        "print(model.alpha_)"
      ],
      "metadata": {
        "colab": {
          "base_uri": "https://localhost:8080/"
        },
        "id": "0iqmLX_wNnQ7",
        "outputId": "682ce139-2e53-4f2e-fd9f-ed80bc5f3117"
      },
      "execution_count": null,
      "outputs": [
        {
          "output_type": "stream",
          "name": "stdout",
          "text": [
            "0.9901\n"
          ]
        }
      ]
    },
    {
      "cell_type": "code",
      "source": [
        "from sklearn.linear_model import Ridge\n",
        "from sklearn.metrics import mean_squared_error, r2_score\n",
        "from sklearn.model_selection import cross_val_score, RepeatedKFold\n",
        "\n",
        "model_Ridge = Ridge(alpha=0.9901)\n",
        "model_Ridge.fit(X_train, y_train)\n",
        "pred_Ridge = model_Ridge.predict(X_test)\n",
        "\n",
        "print(\"MSE score:\", np.sqrt(mean_squared_error(y_test, pred_Ridge)))\n",
        "print(\"R2 score:\", r2_score(y_test, pred_Ridge))\n",
        "\n",
        "cv = RepeatedKFold(n_splits=3, n_repeats=3, random_state=1)\n",
        "scores = cross_val_score(model_Ridge, X, y, scoring='neg_mean_absolute_error', cv=cv, n_jobs=-1)\n",
        "scores = np.absolute(scores)  # Force scores to be positive\n",
        "print('Mean MAE: %.3f (%.3f)' % (np.mean(scores), np.std(scores)))\n"
      ],
      "metadata": {
        "colab": {
          "base_uri": "https://localhost:8080/"
        },
        "id": "AEnNeRKsNu3r",
        "outputId": "9ba884de-940b-4ca4-847f-7aa793a25a9f"
      },
      "execution_count": null,
      "outputs": [
        {
          "output_type": "stream",
          "name": "stdout",
          "text": [
            "MSE score: 4.575684012597513\n",
            "R2 score: 0.82704177431003\n",
            "Mean MAE: 4.272 (0.276)\n"
          ]
        }
      ]
    },
    {
      "cell_type": "markdown",
      "source": [
        "# **Nearest neighbour regression**"
      ],
      "metadata": {
        "id": "DE9t74qDOJ2G"
      }
    },
    {
      "cell_type": "code",
      "source": [
        "#import required packages\n",
        "from sklearn import neighbors\n",
        "from sklearn.metrics import mean_squared_error\n",
        "from math import sqrt\n",
        "import matplotlib.pyplot as plt\n",
        "%matplotlib inline"
      ],
      "metadata": {
        "id": "0SfkIZGeOJoD"
      },
      "execution_count": null,
      "outputs": []
    },
    {
      "cell_type": "code",
      "source": [
        "rmse_val = [] #to store rmse values for different k\n",
        "for K in range(20):\n",
        "    K = K+1\n",
        "    model_nnr = neighbors.KNeighborsRegressor(n_neighbors = K)\n",
        "\n",
        "    model_nnr.fit(X_train, y_train)  #fit the model\n",
        "    pred=model_nnr.predict(X_test) #make prediction on test set\n",
        "    error = sqrt(mean_squared_error(y_test,pred)) #calculate rmse\n",
        "    rmse_val.append(error) #store rmse values\n",
        "    print('RMSE value for k= ' , K , 'is:', error)"
      ],
      "metadata": {
        "colab": {
          "base_uri": "https://localhost:8080/"
        },
        "id": "ZjZ6EoODONpl",
        "outputId": "00302d5e-3c40-4ca2-cbc1-e9c64321e6c0"
      },
      "execution_count": null,
      "outputs": [
        {
          "output_type": "stream",
          "name": "stdout",
          "text": [
            "RMSE value for k=  1 is: 6.580302146868791\n",
            "RMSE value for k=  2 is: 5.566079704744614\n",
            "RMSE value for k=  3 is: 4.6473901027377815\n",
            "RMSE value for k=  4 is: 4.542118084500709\n",
            "RMSE value for k=  5 is: 4.219043360967084\n",
            "RMSE value for k=  6 is: 4.074192827095159\n",
            "RMSE value for k=  7 is: 4.187008104405752\n",
            "RMSE value for k=  8 is: 4.467052557531343\n",
            "RMSE value for k=  9 is: 4.3914276643066374\n",
            "RMSE value for k=  10 is: 4.474010943742894\n",
            "RMSE value for k=  11 is: 4.492901947603503\n",
            "RMSE value for k=  12 is: 4.666277505534993\n",
            "RMSE value for k=  13 is: 4.8093840530548135\n",
            "RMSE value for k=  14 is: 4.943542887156541\n",
            "RMSE value for k=  15 is: 4.9843527804903935\n",
            "RMSE value for k=  16 is: 4.980005015438945\n",
            "RMSE value for k=  17 is: 5.137164620472594\n",
            "RMSE value for k=  18 is: 5.128237362761709\n",
            "RMSE value for k=  19 is: 5.157980159947721\n",
            "RMSE value for k=  20 is: 5.189623033629976\n"
          ]
        }
      ]
    },
    {
      "cell_type": "code",
      "source": [
        "#plotting the rmse values against k values\n",
        "curve = pd.DataFrame(rmse_val) #elbow curve\n",
        "curve.plot()"
      ],
      "metadata": {
        "colab": {
          "base_uri": "https://localhost:8080/",
          "height": 448
        },
        "id": "7Bs42cnnORQx",
        "outputId": "df0b63bb-ddc1-4561-e614-00dda5d7d743"
      },
      "execution_count": null,
      "outputs": [
        {
          "output_type": "execute_result",
          "data": {
            "text/plain": [
              "<Axes: >"
            ]
          },
          "metadata": {},
          "execution_count": 210
        },
        {
          "output_type": "display_data",
          "data": {
            "text/plain": [
              "<Figure size 640x480 with 1 Axes>"
            ],
            "image/png": "[encoded data removed]"
          },
          "metadata": {}
        }
      ]
    },
    {
      "cell_type": "markdown",
      "source": [
        "# **hyperparameter tuning**"
      ],
      "metadata": {
        "id": "NQ4SkfKQzSsR"
      }
    },
    {
      "cell_type": "code",
      "source": [
        "from sklearn.model_selection import GridSearchCV\n",
        "params = {'n_neighbors':[2,3,4,5,6,7,8,9, 10, 11, 12, 13, 14, 15, 16, 17, 18, 19, 20]}\n",
        "\n",
        "knn = neighbors.KNeighborsRegressor()\n",
        "\n",
        "model_nnr = GridSearchCV(knn, params, cv=5)\n",
        "model_nnr.fit(X_train,y_train)\n",
        "model_nnr.best_params_"
      ],
      "metadata": {
        "colab": {
          "base_uri": "https://localhost:8080/"
        },
        "id": "yHbj-JXVOUGX",
        "outputId": "67ac2759-b761-4642-ac72-93fd7dce5d40"
      },
      "execution_count": null,
      "outputs": [
        {
          "output_type": "execute_result",
          "data": {
            "text/plain": [
              "{'n_neighbors': 7}"
            ]
          },
          "metadata": {},
          "execution_count": 211
        }
      ]
    },
    {
      "cell_type": "code",
      "source": [
        "from sklearn.neighbors import KNeighborsRegressor\n",
        "from sklearn.metrics import r2_score, mean_absolute_error\n",
        "from sklearn.model_selection import cross_val_score, RepeatedKFold\n",
        "from numpy import mean, std, absolute\n",
        "\n",
        "# Define the number of neighbors (k)\n",
        "k = 7\n",
        "\n",
        "# Define the KNN regression model\n",
        "model_nnr = KNeighborsRegressor(n_neighbors=k)\n",
        "\n",
        "# Define cross-validation method to evaluate the model\n",
        "cv = RepeatedKFold(n_splits=10, n_repeats=3, random_state=1)\n",
        "\n",
        "# Evaluate the model using R2 score and MAE\n",
        "r2_scores = cross_val_score(model_nnr, X, y, scoring='r2', cv=cv, n_jobs=-1)\n",
        "mae_scores = cross_val_score(model_nnr, X, y, scoring='neg_mean_absolute_error', cv=cv, n_jobs=-1)\n",
        "mae_scores = absolute(mae_scores)\n",
        "\n",
        "# Print the mean R2 score and its standard deviation\n",
        "print('Mean R2 score: %.3f (%.3f)' % (mean(r2_scores), std(r2_scores)))\n",
        "\n",
        "# Print the mean MAE and its standard deviation\n",
        "print('Mean MAE: %.3f (%.3f)' % (mean(mae_scores), std(mae_scores)))\n"
      ],
      "metadata": {
        "colab": {
          "base_uri": "https://localhost:8080/"
        },
        "id": "5bCmTc2XOU3S",
        "outputId": "83948224-ad70-4bf2-bc12-e7d7f59d1c55"
      },
      "execution_count": null,
      "outputs": [
        {
          "output_type": "stream",
          "name": "stdout",
          "text": [
            "Mean R2 score: 0.578 (0.125)\n",
            "Mean MAE: 5.004 (0.817)\n"
          ]
        }
      ]
    },
    {
      "cell_type": "markdown",
      "source": [
        "# **TREE RGRESSION**"
      ],
      "metadata": {
        "id": "Bh8gHk_sO8yy"
      }
    },
    {
      "cell_type": "code",
      "source": [
        "from sklearn.tree import DecisionTreeRegressor\n",
        "DecisionTreeReg=DecisionTreeRegressor()\n",
        "DecisionTreeReg.fit(X_train,y_train)\n",
        "pred_tree=DecisionTreeReg.predict(X_test)\n",
        "print(\"MSE score:\",np.sqrt(mean_squared_error(y_test,pred_tree)))\n",
        "print(\"R2 score:\",r2_score(y_test, pred_tree))"
      ],
      "metadata": {
        "colab": {
          "base_uri": "https://localhost:8080/"
        },
        "id": "i7iU26RPO8kt",
        "outputId": "175e7c82-2c91-46af-f748-3910cf2d0333"
      },
      "execution_count": null,
      "outputs": [
        {
          "output_type": "stream",
          "name": "stdout",
          "text": [
            "MSE score: 6.2513991862735\n",
            "R2 score: 0.6771627535317587\n"
          ]
        }
      ]
    },
    {
      "cell_type": "markdown",
      "source": [
        "# **GRADIENT BOOSTED REGRESSION**"
      ],
      "metadata": {
        "id": "t7GAVw5SPY6P"
      }
    },
    {
      "cell_type": "code",
      "source": [
        "from sklearn.ensemble import GradientBoostingRegressor\n",
        "from sklearn.model_selection import train_test_split\n",
        "from sklearn.metrics import mean_squared_error\n",
        "import matplotlib.pyplot as plt\n",
        "\n",
        "# with new parameters\n",
        "gbr = GradientBoostingRegressor(n_estimators=600,\n",
        "    max_depth=7,\n",
        "    learning_rate=0.01,\n",
        "    min_samples_split=3)\n",
        "# with default parameters\n",
        "gbr = GradientBoostingRegressor()\n",
        "\n",
        "gbr.fit(X_train, y_train)\n",
        "\n",
        "pred_gradient = gbr.predict(X_test)\n",
        "print(\"MSE score:\", np.sqrt(mean_squared_error(y_test, pred_gradient)))\n",
        "print(\"R2 score:\", r2_score(y_test, pred_gradient))\n",
        "x_ax = range(len(y_test))\n",
        "plt.scatter(x_ax, y_test, s=5, color=\"blue\", label=\"original\")\n",
        "plt.plot(x_ax, pred_gradient, lw=0.8, color=\"red\", label=\"predicted\")  # Fix: replace ypred with pred_gradient\n",
        "plt.legend()\n",
        "plt.show()\n"
      ],
      "metadata": {
        "colab": {
          "base_uri": "https://localhost:8080/",
          "height": 466
        },
        "id": "GIzTMPzrPOB5",
        "outputId": "278d0017-6c0b-4118-cf4e-f21fabcb1df4"
      },
      "execution_count": null,
      "outputs": [
        {
          "output_type": "stream",
          "name": "stdout",
          "text": [
            "MSE score: 4.56542453929099\n",
            "R2 score: 0.8278165091787844\n"
          ]
        },
        {
          "output_type": "display_data",
          "data": {
            "text/plain": [
              "<Figure size 640x480 with 1 Axes>"
            ],
            "image/png": "[encoded data removed]"
          },
          "metadata": {}
        }
      ]
    },
    {
      "cell_type": "markdown",
      "source": [
        "# **hyperparameter tuning**"
      ],
      "metadata": {
        "id": "rBbmEcSezZAq"
      }
    },
    {
      "cell_type": "code",
      "source": [
        "depth_values = range(1, 14)\n",
        "\n",
        "mse_scores = []\n",
        "r2_scores = []\n",
        "\n",
        "# Iterate over the depth values\n",
        "for depth in depth_values:\n",
        "    # Create the Gradient Boosting Regressor with the specified depth\n",
        "    gbr = GradientBoostingRegressor(n_estimators=600, max_depth=depth, learning_rate=0.01, min_samples_split=3)\n",
        "\n",
        "    # Fit the model on the training data\n",
        "    gbr.fit(X_train, y_train)\n",
        "\n",
        "    # Make predictions on the test data\n",
        "    pred_gradient = gbr.predict(X_test)\n",
        "\n",
        "    # Calculate the MSE score\n",
        "    mse_score = mean_squared_error(y_test, pred_gradient)\n",
        "    mse_scores.append(mse_score)\n",
        "\n",
        "    # Calculate the R2 score\n",
        "    r2 = r2_score(y_test, pred_gradient)\n",
        "    r2_scores.append(r2)\n",
        "\n",
        "    print(\"Depth:\", depth)\n",
        "    print(\"MSE score:\", mse_score)\n",
        "    print(\"R2 score:\", r2)\n",
        "    print()\n",
        "\n",
        "# Plotting the MSE and R2 scores\n",
        "plt.plot(depth_values, mse_scores, label=\"MSE\")\n",
        "plt.plot(depth_values, r2_scores, label=\"R2\")\n",
        "plt.xlabel(\"Depth\")\n",
        "plt.ylabel(\"Score\")\n",
        "plt.legend()\n",
        "plt.show()"
      ],
      "metadata": {
        "colab": {
          "base_uri": "https://localhost:8080/",
          "height": 1000
        },
        "id": "6OxclW4IRz6F",
        "outputId": "c4b4ec07-3beb-43e0-cc6a-32eeff633b99"
      },
      "execution_count": null,
      "outputs": [
        {
          "output_type": "stream",
          "name": "stdout",
          "text": [
            "Depth: 1\n",
            "MSE score: 23.269299008964822\n",
            "R2 score: 0.807773848561441\n",
            "\n",
            "Depth: 2\n",
            "MSE score: 20.43244032667955\n",
            "R2 score: 0.8312089518905386\n",
            "\n",
            "Depth: 3\n",
            "MSE score: 20.166007659121394\n",
            "R2 score: 0.8334099346654165\n",
            "\n",
            "Depth: 4\n",
            "MSE score: 21.20804600545941\n",
            "R2 score: 0.8248017242981516\n",
            "\n",
            "Depth: 5\n",
            "MSE score: 23.931514423463636\n",
            "R2 score: 0.8023033304979894\n",
            "\n",
            "Depth: 6\n",
            "MSE score: 21.073551540215824\n",
            "R2 score: 0.825912774245707\n",
            "\n",
            "Depth: 7\n",
            "MSE score: 19.809429328162242\n",
            "R2 score: 0.8363556048474127\n",
            "\n",
            "Depth: 8\n",
            "MSE score: 22.224482216477956\n",
            "R2 score: 0.8164050114899312\n",
            "\n",
            "Depth: 9\n",
            "MSE score: 22.66764230286368\n",
            "R2 score: 0.8127440951106157\n",
            "\n",
            "Depth: 10\n",
            "MSE score: 21.39710333703628\n",
            "R2 score: 0.8232399340939747\n",
            "\n",
            "Depth: 11\n",
            "MSE score: 21.346019846755265\n",
            "R2 score: 0.8236619314534561\n",
            "\n",
            "Depth: 12\n",
            "MSE score: 20.92694856793963\n",
            "R2 score: 0.8271238517749119\n",
            "\n",
            "Depth: 13\n",
            "MSE score: 21.057331529299464\n",
            "R2 score: 0.826046766691012\n",
            "\n"
          ]
        },
        {
          "output_type": "display_data",
          "data": {
            "text/plain": [
              "<Figure size 640x480 with 1 Axes>"
            ],
            "image/png": "[encoded data removed]"
          },
          "metadata": {}
        }
      ]
    },
    {
      "cell_type": "markdown",
      "source": [
        "# **RANDOM FOREST REGRESSOR**"
      ],
      "metadata": {
        "id": "_IzGY37eRA45"
      }
    },
    {
      "cell_type": "code",
      "source": [
        "from sklearn.ensemble import RandomForestRegressor\n",
        "\n",
        "# create regressor object\n",
        "regressor_rf = RandomForestRegressor(n_estimators=100, random_state=0)\n",
        "\n",
        "# fit the regressor with x and y data\n",
        "regressor_rf.fit(X, y)"
      ],
      "metadata": {
        "colab": {
          "base_uri": "https://localhost:8080/",
          "height": 75
        },
        "id": "Io5IzJpSRAN8",
        "outputId": "714938d8-9e03-4596-cc4d-c642d114c2a5"
      },
      "execution_count": null,
      "outputs": [
        {
          "output_type": "execute_result",
          "data": {
            "text/plain": [
              "RandomForestRegressor(random_state=0)"
            ],
            "text/html": [
              "<style>#sk-container-id-7 {color: black;background-color: white;}#sk-container-id-7 pre{padding: 0;}#sk-container-id-7 div.sk-toggleable {background-color: white;}#sk-container-id-7 label.sk-toggleable__label {cursor: pointer;display: block;width: 100%;margin-bottom: 0;padding: 0.3em;box-sizing: border-box;text-align: center;}#sk-container-id-7 label.sk-toggleable__label-arrow:before {content: \"▸\";float: left;margin-right: 0.25em;color: #696969;}#sk-container-id-7 label.sk-toggleable__label-arrow:hover:before {color: black;}#sk-container-id-7 div.sk-estimator:hover label.sk-toggleable__label-arrow:before {color: black;}#sk-container-id-7 div.sk-toggleable__content {max-height: 0;max-width: 0;overflow: hidden;text-align: left;background-color: #f0f8ff;}#sk-container-id-7 div.sk-toggleable__content pre {margin: 0.2em;color: black;border-radius: 0.25em;background-color: #f0f8ff;}#sk-container-id-7 input.sk-toggleable__control:checked~div.sk-toggleable__content {max-height: 200px;max-width: 100%;overflow: auto;}#sk-container-id-7 input.sk-toggleable__control:checked~label.sk-toggleable__label-arrow:before {content: \"▾\";}#sk-container-id-7 div.sk-estimator input.sk-toggleable__control:checked~label.sk-toggleable__label {background-color: #d4ebff;}#sk-container-id-7 div.sk-label input.sk-toggleable__control:checked~label.sk-toggleable__label {background-color: #d4ebff;}#sk-container-id-7 input.sk-hidden--visually {border: 0;clip: rect(1px 1px 1px 1px);clip: rect(1px, 1px, 1px, 1px);height: 1px;margin: -1px;overflow: hidden;padding: 0;position: absolute;width: 1px;}#sk-container-id-7 div.sk-estimator {font-family: monospace;background-color: #f0f8ff;border: 1px dotted black;border-radius: 0.25em;box-sizing: border-box;margin-bottom: 0.5em;}#sk-container-id-7 div.sk-estimator:hover {background-color: #d4ebff;}#sk-container-id-7 div.sk-parallel-item::after {content: \"\";width: 100%;border-bottom: 1px solid gray;flex-grow: 1;}#sk-container-id-7 div.sk-label:hover label.sk-toggleable__label {background-color: #d4ebff;}#sk-container-id-7 div.sk-serial::before {content: \"\";position: absolute;border-left: 1px solid gray;box-sizing: border-box;top: 0;bottom: 0;left: 50%;z-index: 0;}#sk-container-id-7 div.sk-serial {display: flex;flex-direction: column;align-items: center;background-color: white;padding-right: 0.2em;padding-left: 0.2em;position: relative;}#sk-container-id-7 div.sk-item {position: relative;z-index: 1;}#sk-container-id-7 div.sk-parallel {display: flex;align-items: stretch;justify-content: center;background-color: white;position: relative;}#sk-container-id-7 div.sk-item::before, #sk-container-id-7 div.sk-parallel-item::before {content: \"\";position: absolute;border-left: 1px solid gray;box-sizing: border-box;top: 0;bottom: 0;left: 50%;z-index: -1;}#sk-container-id-7 div.sk-parallel-item {display: flex;flex-direction: column;z-index: 1;position: relative;background-color: white;}#sk-container-id-7 div.sk-parallel-item:first-child::after {align-self: flex-end;width: 50%;}#sk-container-id-7 div.sk-parallel-item:last-child::after {align-self: flex-start;width: 50%;}#sk-container-id-7 div.sk-parallel-item:only-child::after {width: 0;}#sk-container-id-7 div.sk-dashed-wrapped {border: 1px dashed gray;margin: 0 0.4em 0.5em 0.4em;box-sizing: border-box;padding-bottom: 0.4em;background-color: white;}#sk-container-id-7 div.sk-label label {font-family: monospace;font-weight: bold;display: inline-block;line-height: 1.2em;}#sk-container-id-7 div.sk-label-container {text-align: center;}#sk-container-id-7 div.sk-container {/* jupyter's `normalize.less` sets `[hidden] { display: none; }` but bootstrap.min.css set `[hidden] { display: none !important; }` so we also need the `!important` here to be able to override the default hidden behavior on the sphinx rendered scikit-learn.org. See: https://github.com/scikit-learn/scikit-learn/issues/21755 */display: inline-block !important;position: relative;}#sk-container-id-7 div.sk-text-repr-fallback {display: none;}</style><div id=\"sk-container-id-7\" class=\"sk-top-container\"><div class=\"sk-text-repr-fallback\"><pre>RandomForestRegressor(random_state=0)</pre><b>In a Jupyter environment, please rerun this cell to show the HTML representation or trust the notebook. <br />On GitHub, the HTML representation is unable to render, please try loading this page with nbviewer.org.</b></div><div class=\"sk-container\" hidden><div class=\"sk-item\"><div class=\"sk-estimator sk-toggleable\"><input class=\"sk-toggleable__control sk-hidden--visually\" id=\"sk-estimator-id-7\" type=\"checkbox\" checked><label for=\"sk-estimator-id-7\" class=\"sk-toggleable__label sk-toggleable__label-arrow\">RandomForestRegressor</label><div class=\"sk-toggleable__content\"><pre>RandomForestRegressor(random_state=0)</pre></div></div></div></div></div>"
            ]
          },
          "metadata": {},
          "execution_count": 242
        }
      ]
    },
    {
      "cell_type": "code",
      "source": [
        "regressor_rf.score(X_test, y_test)"
      ],
      "metadata": {
        "colab": {
          "base_uri": "https://localhost:8080/"
        },
        "id": "l9dLG_aDRFPY",
        "outputId": "4d3c8632-a4f8-4522-9578-f44cf4690718"
      },
      "execution_count": null,
      "outputs": [
        {
          "output_type": "execute_result",
          "data": {
            "text/plain": [
              "0.9739530943338126"
            ]
          },
          "metadata": {},
          "execution_count": 243
        }
      ]
    },
    {
      "cell_type": "code",
      "source": [
        "regressor_rf.score(X_test, y_test)\n",
        "# Print the mean MAE and its standard deviation\n",
        "print('Mean MAE: %.3f (%.3f)' % (mean(scores), std(scores)))"
      ],
      "metadata": {
        "colab": {
          "base_uri": "https://localhost:8080/"
        },
        "id": "VSh6QbpRRG1H",
        "outputId": "6c39017b-0f60-4cd4-a237-246c50bd8ac7"
      },
      "execution_count": null,
      "outputs": [
        {
          "output_type": "stream",
          "name": "stdout",
          "text": [
            "Mean MAE: 0.578 (0.125)\n"
          ]
        }
      ]
    },
    {
      "cell_type": "code",
      "source": [
        "from sklearn.model_selection import GridSearchCV\n",
        "parameters = {\n",
        "    'n_estimators': [100, 150, 200, 250, 300],\n",
        "    'max_depth': [1,2,3,4],\n",
        "}\n",
        "regr = RandomForestRegressor(random_state=0)\n",
        "\n",
        "clf = GridSearchCV(regr, parameters)\n",
        "clf.fit(X_train, y_train)"
      ],
      "metadata": {
        "colab": {
          "base_uri": "https://localhost:8080/",
          "height": 118
        },
        "id": "VitFYYZcSGKl",
        "outputId": "d88a9b66-4472-42fc-a0d1-e76b7ae676e2"
      },
      "execution_count": null,
      "outputs": [
        {
          "output_type": "execute_result",
          "data": {
            "text/plain": [
              "GridSearchCV(estimator=RandomForestRegressor(random_state=0),\n",
              "             param_grid={'max_depth': [1, 2, 3, 4],\n",
              "                         'n_estimators': [100, 150, 200, 250, 300]})"
            ],
            "text/html": [
              "<style>#sk-container-id-8 {color: black;background-color: white;}#sk-container-id-8 pre{padding: 0;}#sk-container-id-8 div.sk-toggleable {background-color: white;}#sk-container-id-8 label.sk-toggleable__label {cursor: pointer;display: block;width: 100%;margin-bottom: 0;padding: 0.3em;box-sizing: border-box;text-align: center;}#sk-container-id-8 label.sk-toggleable__label-arrow:before {content: \"▸\";float: left;margin-right: 0.25em;color: #696969;}#sk-container-id-8 label.sk-toggleable__label-arrow:hover:before {color: black;}#sk-container-id-8 div.sk-estimator:hover label.sk-toggleable__label-arrow:before {color: black;}#sk-container-id-8 div.sk-toggleable__content {max-height: 0;max-width: 0;overflow: hidden;text-align: left;background-color: #f0f8ff;}#sk-container-id-8 div.sk-toggleable__content pre {margin: 0.2em;color: black;border-radius: 0.25em;background-color: #f0f8ff;}#sk-container-id-8 input.sk-toggleable__control:checked~div.sk-toggleable__content {max-height: 200px;max-width: 100%;overflow: auto;}#sk-container-id-8 input.sk-toggleable__control:checked~label.sk-toggleable__label-arrow:before {content: \"▾\";}#sk-container-id-8 div.sk-estimator input.sk-toggleable__control:checked~label.sk-toggleable__label {background-color: #d4ebff;}#sk-container-id-8 div.sk-label input.sk-toggleable__control:checked~label.sk-toggleable__label {background-color: #d4ebff;}#sk-container-id-8 input.sk-hidden--visually {border: 0;clip: rect(1px 1px 1px 1px);clip: rect(1px, 1px, 1px, 1px);height: 1px;margin: -1px;overflow: hidden;padding: 0;position: absolute;width: 1px;}#sk-container-id-8 div.sk-estimator {font-family: monospace;background-color: #f0f8ff;border: 1px dotted black;border-radius: 0.25em;box-sizing: border-box;margin-bottom: 0.5em;}#sk-container-id-8 div.sk-estimator:hover {background-color: #d4ebff;}#sk-container-id-8 div.sk-parallel-item::after {content: \"\";width: 100%;border-bottom: 1px solid gray;flex-grow: 1;}#sk-container-id-8 div.sk-label:hover label.sk-toggleable__label {background-color: #d4ebff;}#sk-container-id-8 div.sk-serial::before {content: \"\";position: absolute;border-left: 1px solid gray;box-sizing: border-box;top: 0;bottom: 0;left: 50%;z-index: 0;}#sk-container-id-8 div.sk-serial {display: flex;flex-direction: column;align-items: center;background-color: white;padding-right: 0.2em;padding-left: 0.2em;position: relative;}#sk-container-id-8 div.sk-item {position: relative;z-index: 1;}#sk-container-id-8 div.sk-parallel {display: flex;align-items: stretch;justify-content: center;background-color: white;position: relative;}#sk-container-id-8 div.sk-item::before, #sk-container-id-8 div.sk-parallel-item::before {content: \"\";position: absolute;border-left: 1px solid gray;box-sizing: border-box;top: 0;bottom: 0;left: 50%;z-index: -1;}#sk-container-id-8 div.sk-parallel-item {display: flex;flex-direction: column;z-index: 1;position: relative;background-color: white;}#sk-container-id-8 div.sk-parallel-item:first-child::after {align-self: flex-end;width: 50%;}#sk-container-id-8 div.sk-parallel-item:last-child::after {align-self: flex-start;width: 50%;}#sk-container-id-8 div.sk-parallel-item:only-child::after {width: 0;}#sk-container-id-8 div.sk-dashed-wrapped {border: 1px dashed gray;margin: 0 0.4em 0.5em 0.4em;box-sizing: border-box;padding-bottom: 0.4em;background-color: white;}#sk-container-id-8 div.sk-label label {font-family: monospace;font-weight: bold;display: inline-block;line-height: 1.2em;}#sk-container-id-8 div.sk-label-container {text-align: center;}#sk-container-id-8 div.sk-container {/* jupyter's `normalize.less` sets `[hidden] { display: none; }` but bootstrap.min.css set `[hidden] { display: none !important; }` so we also need the `!important` here to be able to override the default hidden behavior on the sphinx rendered scikit-learn.org. See: https://github.com/scikit-learn/scikit-learn/issues/21755 */display: inline-block !important;position: relative;}#sk-container-id-8 div.sk-text-repr-fallback {display: none;}</style><div id=\"sk-container-id-8\" class=\"sk-top-container\"><div class=\"sk-text-repr-fallback\"><pre>GridSearchCV(estimator=RandomForestRegressor(random_state=0),\n",
              "             param_grid={&#x27;max_depth&#x27;: [1, 2, 3, 4],\n",
              "                         &#x27;n_estimators&#x27;: [100, 150, 200, 250, 300]})</pre><b>In a Jupyter environment, please rerun this cell to show the HTML representation or trust the notebook. <br />On GitHub, the HTML representation is unable to render, please try loading this page with nbviewer.org.</b></div><div class=\"sk-container\" hidden><div class=\"sk-item sk-dashed-wrapped\"><div class=\"sk-label-container\"><div class=\"sk-label sk-toggleable\"><input class=\"sk-toggleable__control sk-hidden--visually\" id=\"sk-estimator-id-8\" type=\"checkbox\" ><label for=\"sk-estimator-id-8\" class=\"sk-toggleable__label sk-toggleable__label-arrow\">GridSearchCV</label><div class=\"sk-toggleable__content\"><pre>GridSearchCV(estimator=RandomForestRegressor(random_state=0),\n",
              "             param_grid={&#x27;max_depth&#x27;: [1, 2, 3, 4],\n",
              "                         &#x27;n_estimators&#x27;: [100, 150, 200, 250, 300]})</pre></div></div></div><div class=\"sk-parallel\"><div class=\"sk-parallel-item\"><div class=\"sk-item\"><div class=\"sk-label-container\"><div class=\"sk-label sk-toggleable\"><input class=\"sk-toggleable__control sk-hidden--visually\" id=\"sk-estimator-id-9\" type=\"checkbox\" ><label for=\"sk-estimator-id-9\" class=\"sk-toggleable__label sk-toggleable__label-arrow\">estimator: RandomForestRegressor</label><div class=\"sk-toggleable__content\"><pre>RandomForestRegressor(random_state=0)</pre></div></div></div><div class=\"sk-serial\"><div class=\"sk-item\"><div class=\"sk-estimator sk-toggleable\"><input class=\"sk-toggleable__control sk-hidden--visually\" id=\"sk-estimator-id-10\" type=\"checkbox\" ><label for=\"sk-estimator-id-10\" class=\"sk-toggleable__label sk-toggleable__label-arrow\">RandomForestRegressor</label><div class=\"sk-toggleable__content\"><pre>RandomForestRegressor(random_state=0)</pre></div></div></div></div></div></div></div></div></div></div>"
            ]
          },
          "metadata": {},
          "execution_count": 256
        }
      ]
    },
    {
      "cell_type": "code",
      "source": [
        "y_pred_train = clf.predict(X_train)\n",
        "mean_squared_error(y_train, y_pred_train)"
      ],
      "metadata": {
        "colab": {
          "base_uri": "https://localhost:8080/"
        },
        "id": "hUvpfkVfUwko",
        "outputId": "8cfdad8b-de20-429a-ae77-4dfad85266be"
      },
      "execution_count": null,
      "outputs": [
        {
          "output_type": "execute_result",
          "data": {
            "text/plain": [
              "31.210004018401072"
            ]
          },
          "metadata": {},
          "execution_count": 260
        }
      ]
    },
    {
      "cell_type": "markdown",
      "source": [
        "# **SUPPORT VECTOR REGRESSION**"
      ],
      "metadata": {
        "id": "hk7lqhyGUoYs"
      }
    },
    {
      "cell_type": "code",
      "source": [
        "from sklearn.svm import SVR\n",
        "from sklearn.model_selection import train_test_split\n",
        "from sklearn.metrics import mean_squared_error, r2_score\n",
        "import matplotlib.pyplot as plt\n",
        "\n",
        "# Create an instance of SVR\n",
        "svr = SVR(kernel='rbf', C=1.0, epsilon=0.1)\n",
        "\n",
        "# Fit the SVR model on the training data\n",
        "svr.fit(X_train, y_train)\n",
        "\n",
        "# Make predictions on the test data\n",
        "y_pred = svr.predict(X_test)\n",
        "\n",
        "# Calculate evaluation metrics\n",
        "mse = mean_squared_error(y_test, y_pred)\n",
        "r2 = r2_score(y_test, y_pred)\n",
        "\n",
        "print(\"Mean Squared Error (MSE):\", mse)\n",
        "print(\"R2 Score:\", r2)\n",
        "\n",
        "# Plot the predicted values against the true values\n",
        "plt.scatter(y_test, y_pred, color='blue', alpha=0.5)\n",
        "plt.plot([y_test.min(), y_test.max()], [y_test.min(), y_test.max()], color='red', linestyle='--')\n",
        "plt.xlabel('True Values')\n",
        "plt.ylabel('Predicted Values')\n",
        "plt.title('SVR: True Values vs. Predicted Values')\n",
        "plt.show()\n"
      ],
      "metadata": {
        "colab": {
          "base_uri": "https://localhost:8080/",
          "height": 508
        },
        "id": "U6bJ__QOUu18",
        "outputId": "eb1b43ca-a1ed-4817-a038-d3dfbffe97b4"
      },
      "execution_count": null,
      "outputs": [
        {
          "output_type": "stream",
          "name": "stdout",
          "text": [
            "Mean Squared Error (MSE): 57.86995801427024\n",
            "R2 Score: 0.5727505986285979\n"
          ]
        },
        {
          "output_type": "display_data",
          "data": {
            "text/plain": [
              "<Figure size 640x480 with 1 Axes>"
            ],
            "image/png": "[encoded data removed]"
          },
          "metadata": {}
        }
      ]
    },
    {
      "cell_type": "code",
      "source": [
        "import numpy as np\n",
        "\n",
        "# Calculate the IQR and outlier bounds\n",
        "Q1 = np.percentile(df['market_value'], 25)\n",
        "Q3 = np.percentile(df['market_value'], 75)\n",
        "IQR = Q3 - Q1\n",
        "\n",
        "lower_bound = Q1 - 1.5 * IQR\n",
        "upper_bound = Q3 + 1.5 * IQR\n",
        "\n",
        "# Filter the dataframe to remove outliers\n",
        "df_filtered = df[(df['market_value'] >= lower_bound) & (df['market_value'] <= upper_bound)]\n",
        "\n",
        "# Print the filtered dataframe\n",
        "print(df_filtered)\n"
      ],
      "metadata": {
        "colab": {
          "base_uri": "https://localhost:8080/"
        },
        "id": "vZq4q-5wqCV_",
        "outputId": "11eed893-c66f-4ea2-ea8c-00599dcaa61f"
      },
      "execution_count": null,
      "outputs": [
        {
          "output_type": "stream",
          "name": "stdout",
          "text": [
            "                    name      club  age position  position_cat  market_value  \\\n",
            "2              Petr Cech   Arsenal   35       GK             4           7.0   \n",
            "3           Theo Walcott   Arsenal   28       RW             1          20.0   \n",
            "4      Laurent Koscielny   Arsenal   31       CB             3          22.0   \n",
            "5        Hector Bellerin   Arsenal   22       RB             3          30.0   \n",
            "6         Olivier Giroud   Arsenal   30       CF             1          22.0   \n",
            "..                   ...       ...  ...      ...           ...           ...   \n",
            "456  Edimilson Fernandes  West+Ham   21       CM             2           5.0   \n",
            "457       Arthur Masuaku  West+Ham   23       LB             3           7.0   \n",
            "458            Sam Byram  West+Ham   23       RB             3           4.5   \n",
            "459      Ashley Fletcher  West+Ham   21       CF             1           1.0   \n",
            "460         Diafra Sakho  West+Ham   27       CF             1          10.0   \n",
            "\n",
            "     page_views  fpl_value  fpl_sel  fpl_points  region     nationality  \\\n",
            "2          1529        5.5      5.9         134     2.0  Czech Republic   \n",
            "3          2393        7.5      1.5         122     1.0         England   \n",
            "4           912        6.0      0.7         121     2.0          France   \n",
            "5          1675        6.0     13.7         119     2.0           Spain   \n",
            "6          2230        8.5      2.5         116     2.0          France   \n",
            "..          ...        ...      ...         ...     ...             ...   \n",
            "456         288        4.5      0.4          38     2.0     Switzerland   \n",
            "457         199        4.5      0.2          34     4.0        Congo DR   \n",
            "458         198        4.5      0.3          29     1.0         England   \n",
            "459         412        4.5      5.9          16     1.0         England   \n",
            "460         214        5.5      0.1          12     4.0         Senegal   \n",
            "\n",
            "     new_foreign  age_cat  club_id  big_club  new_signing  \n",
            "2              0        6        1         1            0  \n",
            "3              0        4        1         1            0  \n",
            "4              0        4        1         1            0  \n",
            "5              0        2        1         1            0  \n",
            "6              0        4        1         1            0  \n",
            "..           ...      ...      ...       ...          ...  \n",
            "456            0        1       20         0            1  \n",
            "457            0        2       20         0            1  \n",
            "458            0        2       20         0            0  \n",
            "459            0        1       20         0            1  \n",
            "460            0        3       20         0            0  \n",
            "\n",
            "[432 rows x 17 columns]\n"
          ]
        }
      ]
    },
    {
      "cell_type": "code",
      "source": [
        "df_filtered"
      ],
      "metadata": {
        "colab": {
          "base_uri": "https://localhost:8080/",
          "height": 520
        },
        "id": "9Hsvbx6nrBfp",
        "outputId": "d36cfa95-9699-49ec-ec75-961f55bf4796"
      },
      "execution_count": null,
      "outputs": [
        {
          "output_type": "execute_result",
          "data": {
            "text/plain": [
              "                    name      club  age position  position_cat  market_value  \\\n",
              "2              Petr Cech   Arsenal   35       GK             4           7.0   \n",
              "3           Theo Walcott   Arsenal   28       RW             1          20.0   \n",
              "4      Laurent Koscielny   Arsenal   31       CB             3          22.0   \n",
              "5        Hector Bellerin   Arsenal   22       RB             3          30.0   \n",
              "6         Olivier Giroud   Arsenal   30       CF             1          22.0   \n",
              "..                   ...       ...  ...      ...           ...           ...   \n",
              "456  Edimilson Fernandes  West+Ham   21       CM             2           5.0   \n",
              "457       Arthur Masuaku  West+Ham   23       LB             3           7.0   \n",
              "458            Sam Byram  West+Ham   23       RB             3           4.5   \n",
              "459      Ashley Fletcher  West+Ham   21       CF             1           1.0   \n",
              "460         Diafra Sakho  West+Ham   27       CF             1          10.0   \n",
              "\n",
              "     page_views  fpl_value  fpl_sel  fpl_points  region     nationality  \\\n",
              "2          1529        5.5      5.9         134     2.0  Czech Republic   \n",
              "3          2393        7.5      1.5         122     1.0         England   \n",
              "4           912        6.0      0.7         121     2.0          France   \n",
              "5          1675        6.0     13.7         119     2.0           Spain   \n",
              "6          2230        8.5      2.5         116     2.0          France   \n",
              "..          ...        ...      ...         ...     ...             ...   \n",
              "456         288        4.5      0.4          38     2.0     Switzerland   \n",
              "457         199        4.5      0.2          34     4.0        Congo DR   \n",
              "458         198        4.5      0.3          29     1.0         England   \n",
              "459         412        4.5      5.9          16     1.0         England   \n",
              "460         214        5.5      0.1          12     4.0         Senegal   \n",
              "\n",
              "     new_foreign  age_cat  club_id  big_club  new_signing  \n",
              "2              0        6        1         1            0  \n",
              "3              0        4        1         1            0  \n",
              "4              0        4        1         1            0  \n",
              "5              0        2        1         1            0  \n",
              "6              0        4        1         1            0  \n",
              "..           ...      ...      ...       ...          ...  \n",
              "456            0        1       20         0            1  \n",
              "457            0        2       20         0            1  \n",
              "458            0        2       20         0            0  \n",
              "459            0        1       20         0            1  \n",
              "460            0        3       20         0            0  \n",
              "\n",
              "[432 rows x 17 columns]"
            ],
            "text/html": [
              "\n",
              "  <div id=\"df-eb44532b-17d3-4ef6-aa15-1014176d128c\">\n",
              "    <div class=\"colab-df-container\">\n",
              "      <div>\n",
              "<style scoped>\n",
              "    .dataframe tbody tr th:only-of-type {\n",
              "        vertical-align: middle;\n",
              "    }\n",
              "\n",
              "    .dataframe tbody tr th {\n",
              "        vertical-align: top;\n",
              "    }\n",
              "\n",
              "    .dataframe thead th {\n",
              "        text-align: right;\n",
              "    }\n",
              "</style>\n",
              "<table border=\"1\" class=\"dataframe\">\n",
              "  <thead>\n",
              "    <tr style=\"text-align: right;\">\n",
              "      <th></th>\n",
              "      <th>name</th>\n",
              "      <th>club</th>\n",
              "      <th>age</th>\n",
              "      <th>position</th>\n",
              "      <th>position_cat</th>\n",
              "      <th>market_value</th>\n",
              "      <th>page_views</th>\n",
              "      <th>fpl_value</th>\n",
              "      <th>fpl_sel</th>\n",
              "      <th>fpl_points</th>\n",
              "      <th>region</th>\n",
              "      <th>nationality</th>\n",
              "      <th>new_foreign</th>\n",
              "      <th>age_cat</th>\n",
              "      <th>club_id</th>\n",
              "      <th>big_club</th>\n",
              "      <th>new_signing</th>\n",
              "    </tr>\n",
              "  </thead>\n",
              "  <tbody>\n",
              "    <tr>\n",
              "      <th>2</th>\n",
              "      <td>Petr Cech</td>\n",
              "      <td>Arsenal</td>\n",
              "      <td>35</td>\n",
              "      <td>GK</td>\n",
              "      <td>4</td>\n",
              "      <td>7.0</td>\n",
              "      <td>1529</td>\n",
              "      <td>5.5</td>\n",
              "      <td>5.9</td>\n",
              "      <td>134</td>\n",
              "      <td>2.0</td>\n",
              "      <td>Czech Republic</td>\n",
              "      <td>0</td>\n",
              "      <td>6</td>\n",
              "      <td>1</td>\n",
              "      <td>1</td>\n",
              "      <td>0</td>\n",
              "    </tr>\n",
              "    <tr>\n",
              "      <th>3</th>\n",
              "      <td>Theo Walcott</td>\n",
              "      <td>Arsenal</td>\n",
              "      <td>28</td>\n",
              "      <td>RW</td>\n",
              "      <td>1</td>\n",
              "      <td>20.0</td>\n",
              "      <td>2393</td>\n",
              "      <td>7.5</td>\n",
              "      <td>1.5</td>\n",
              "      <td>122</td>\n",
              "      <td>1.0</td>\n",
              "      <td>England</td>\n",
              "      <td>0</td>\n",
              "      <td>4</td>\n",
              "      <td>1</td>\n",
              "      <td>1</td>\n",
              "      <td>0</td>\n",
              "    </tr>\n",
              "    <tr>\n",
              "      <th>4</th>\n",
              "      <td>Laurent Koscielny</td>\n",
              "      <td>Arsenal</td>\n",
              "      <td>31</td>\n",
              "      <td>CB</td>\n",
              "      <td>3</td>\n",
              "      <td>22.0</td>\n",
              "      <td>912</td>\n",
              "      <td>6.0</td>\n",
              "      <td>0.7</td>\n",
              "      <td>121</td>\n",
              "      <td>2.0</td>\n",
              "      <td>France</td>\n",
              "      <td>0</td>\n",
              "      <td>4</td>\n",
              "      <td>1</td>\n",
              "      <td>1</td>\n",
              "      <td>0</td>\n",
              "    </tr>\n",
              "    <tr>\n",
              "      <th>5</th>\n",
              "      <td>Hector Bellerin</td>\n",
              "      <td>Arsenal</td>\n",
              "      <td>22</td>\n",
              "      <td>RB</td>\n",
              "      <td>3</td>\n",
              "      <td>30.0</td>\n",
              "      <td>1675</td>\n",
              "      <td>6.0</td>\n",
              "      <td>13.7</td>\n",
              "      <td>119</td>\n",
              "      <td>2.0</td>\n",
              "      <td>Spain</td>\n",
              "      <td>0</td>\n",
              "      <td>2</td>\n",
              "      <td>1</td>\n",
              "      <td>1</td>\n",
              "      <td>0</td>\n",
              "    </tr>\n",
              "    <tr>\n",
              "      <th>6</th>\n",
              "      <td>Olivier Giroud</td>\n",
              "      <td>Arsenal</td>\n",
              "      <td>30</td>\n",
              "      <td>CF</td>\n",
              "      <td>1</td>\n",
              "      <td>22.0</td>\n",
              "      <td>2230</td>\n",
              "      <td>8.5</td>\n",
              "      <td>2.5</td>\n",
              "      <td>116</td>\n",
              "      <td>2.0</td>\n",
              "      <td>France</td>\n",
              "      <td>0</td>\n",
              "      <td>4</td>\n",
              "      <td>1</td>\n",
              "      <td>1</td>\n",
              "      <td>0</td>\n",
              "    </tr>\n",
              "    <tr>\n",
              "      <th>...</th>\n",
              "      <td>...</td>\n",
              "      <td>...</td>\n",
              "      <td>...</td>\n",
              "      <td>...</td>\n",
              "      <td>...</td>\n",
              "      <td>...</td>\n",
              "      <td>...</td>\n",
              "      <td>...</td>\n",
              "      <td>...</td>\n",
              "      <td>...</td>\n",
              "      <td>...</td>\n",
              "      <td>...</td>\n",
              "      <td>...</td>\n",
              "      <td>...</td>\n",
              "      <td>...</td>\n",
              "      <td>...</td>\n",
              "      <td>...</td>\n",
              "    </tr>\n",
              "    <tr>\n",
              "      <th>456</th>\n",
              "      <td>Edimilson Fernandes</td>\n",
              "      <td>West+Ham</td>\n",
              "      <td>21</td>\n",
              "      <td>CM</td>\n",
              "      <td>2</td>\n",
              "      <td>5.0</td>\n",
              "      <td>288</td>\n",
              "      <td>4.5</td>\n",
              "      <td>0.4</td>\n",
              "      <td>38</td>\n",
              "      <td>2.0</td>\n",
              "      <td>Switzerland</td>\n",
              "      <td>0</td>\n",
              "      <td>1</td>\n",
              "      <td>20</td>\n",
              "      <td>0</td>\n",
              "      <td>1</td>\n",
              "    </tr>\n",
              "    <tr>\n",
              "      <th>457</th>\n",
              "      <td>Arthur Masuaku</td>\n",
              "      <td>West+Ham</td>\n",
              "      <td>23</td>\n",
              "      <td>LB</td>\n",
              "      <td>3</td>\n",
              "      <td>7.0</td>\n",
              "      <td>199</td>\n",
              "      <td>4.5</td>\n",
              "      <td>0.2</td>\n",
              "      <td>34</td>\n",
              "      <td>4.0</td>\n",
              "      <td>Congo DR</td>\n",
              "      <td>0</td>\n",
              "      <td>2</td>\n",
              "      <td>20</td>\n",
              "      <td>0</td>\n",
              "      <td>1</td>\n",
              "    </tr>\n",
              "    <tr>\n",
              "      <th>458</th>\n",
              "      <td>Sam Byram</td>\n",
              "      <td>West+Ham</td>\n",
              "      <td>23</td>\n",
              "      <td>RB</td>\n",
              "      <td>3</td>\n",
              "      <td>4.5</td>\n",
              "      <td>198</td>\n",
              "      <td>4.5</td>\n",
              "      <td>0.3</td>\n",
              "      <td>29</td>\n",
              "      <td>1.0</td>\n",
              "      <td>England</td>\n",
              "      <td>0</td>\n",
              "      <td>2</td>\n",
              "      <td>20</td>\n",
              "      <td>0</td>\n",
              "      <td>0</td>\n",
              "    </tr>\n",
              "    <tr>\n",
              "      <th>459</th>\n",
              "      <td>Ashley Fletcher</td>\n",
              "      <td>West+Ham</td>\n",
              "      <td>21</td>\n",
              "      <td>CF</td>\n",
              "      <td>1</td>\n",
              "      <td>1.0</td>\n",
              "      <td>412</td>\n",
              "      <td>4.5</td>\n",
              "      <td>5.9</td>\n",
              "      <td>16</td>\n",
              "      <td>1.0</td>\n",
              "      <td>England</td>\n",
              "      <td>0</td>\n",
              "      <td>1</td>\n",
              "      <td>20</td>\n",
              "      <td>0</td>\n",
              "      <td>1</td>\n",
              "    </tr>\n",
              "    <tr>\n",
              "      <th>460</th>\n",
              "      <td>Diafra Sakho</td>\n",
              "      <td>West+Ham</td>\n",
              "      <td>27</td>\n",
              "      <td>CF</td>\n",
              "      <td>1</td>\n",
              "      <td>10.0</td>\n",
              "      <td>214</td>\n",
              "      <td>5.5</td>\n",
              "      <td>0.1</td>\n",
              "      <td>12</td>\n",
              "      <td>4.0</td>\n",
              "      <td>Senegal</td>\n",
              "      <td>0</td>\n",
              "      <td>3</td>\n",
              "      <td>20</td>\n",
              "      <td>0</td>\n",
              "      <td>0</td>\n",
              "    </tr>\n",
              "  </tbody>\n",
              "</table>\n",
              "<p>432 rows × 17 columns</p>\n",
              "</div>\n",
              "      <button class=\"colab-df-convert\" onclick=\"convertToInteractive('df-eb44532b-17d3-4ef6-aa15-1014176d128c')\"\n",
              "              title=\"Convert this dataframe to an interactive table.\"\n",
              "              style=\"display:none;\">\n",
              "        \n",
              "  <svg xmlns=\"http://www.w3.org/2000/svg\" height=\"24px\"viewBox=\"0 0 24 24\"\n",
              "       width=\"24px\">\n",
              "    <path d=\"M0 0h24v24H0V0z\" fill=\"none\"/>\n",
              "    <path d=\"M18.56 5.44l.94 2.06.94-2.06 2.06-.94-2.06-.94-.94-2.06-.94 2.06-2.06.94zm-11 1L8.5 8.5l.94-2.06 2.06-.94-2.06-.94L8.5 2.5l-.94 2.06-2.06.94zm10 10l.94 2.06.94-2.06 2.06-.94-2.06-.94-.94-2.06-.94 2.06-2.06.94z\"/><path d=\"M17.41 7.96l-1.37-1.37c-.4-.4-.92-.59-1.43-.59-.52 0-1.04.2-1.43.59L10.3 9.45l-7.72 7.72c-.78.78-.78 2.05 0 2.83L4 21.41c.39.39.9.59 1.41.59.51 0 1.02-.2 1.41-.59l7.78-7.78 2.81-2.81c.8-.78.8-2.07 0-2.86zM5.41 20L4 18.59l7.72-7.72 1.47 1.35L5.41 20z\"/>\n",
              "  </svg>\n",
              "      </button>\n",
              "      \n",
              "  <style>\n",
              "    .colab-df-container {\n",
              "      display:flex;\n",
              "      flex-wrap:wrap;\n",
              "      gap: 12px;\n",
              "    }\n",
              "\n",
              "    .colab-df-convert {\n",
              "      background-color: #E8F0FE;\n",
              "      border: none;\n",
              "      border-radius: 50%;\n",
              "      cursor: pointer;\n",
              "      display: none;\n",
              "      fill: #1967D2;\n",
              "      height: 32px;\n",
              "      padding: 0 0 0 0;\n",
              "      width: 32px;\n",
              "    }\n",
              "\n",
              "    .colab-df-convert:hover {\n",
              "      background-color: #E2EBFA;\n",
              "      box-shadow: 0px 1px 2px rgba(60, 64, 67, 0.3), 0px 1px 3px 1px rgba(60, 64, 67, 0.15);\n",
              "      fill: #174EA6;\n",
              "    }\n",
              "\n",
              "    [theme=dark] .colab-df-convert {\n",
              "      background-color: #3B4455;\n",
              "      fill: #D2E3FC;\n",
              "    }\n",
              "\n",
              "    [theme=dark] .colab-df-convert:hover {\n",
              "      background-color: #434B5C;\n",
              "      box-shadow: 0px 1px 3px 1px rgba(0, 0, 0, 0.15);\n",
              "      filter: drop-shadow(0px 1px 2px rgba(0, 0, 0, 0.3));\n",
              "      fill: #FFFFFF;\n",
              "    }\n",
              "  </style>\n",
              "\n",
              "      <script>\n",
              "        const buttonEl =\n",
              "          document.querySelector('#df-eb44532b-17d3-4ef6-aa15-1014176d128c button.colab-df-convert');\n",
              "        buttonEl.style.display =\n",
              "          google.colab.kernel.accessAllowed ? 'block' : 'none';\n",
              "\n",
              "        async function convertToInteractive(key) {\n",
              "          const element = document.querySelector('#df-eb44532b-17d3-4ef6-aa15-1014176d128c');\n",
              "          const dataTable =\n",
              "            await google.colab.kernel.invokeFunction('convertToInteractive',\n",
              "                                                     [key], {});\n",
              "          if (!dataTable) return;\n",
              "\n",
              "          const docLinkHtml = 'Like what you see? Visit the ' +\n",
              "            '<a target=\"_blank\" href=https://colab.research.google.com/notebooks/data_table.ipynb>data table notebook</a>'\n",
              "            + ' to learn more about interactive tables.';\n",
              "          element.innerHTML = '';\n",
              "          dataTable['output_type'] = 'display_data';\n",
              "          await google.colab.output.renderOutput(dataTable, element);\n",
              "          const docLink = document.createElement('div');\n",
              "          docLink.innerHTML = docLinkHtml;\n",
              "          element.appendChild(docLink);\n",
              "        }\n",
              "      </script>\n",
              "    </div>\n",
              "  </div>\n",
              "  "
            ]
          },
          "metadata": {},
          "execution_count": 287
        }
      ]
    },
    {
      "cell_type": "code",
      "source": [
        "from sklearn.svm import SVR\n",
        "from sklearn.model_selection import train_test_split\n",
        "from sklearn.metrics import mean_squared_error, r2_score\n",
        "import matplotlib.pyplot as plt\n",
        "\n",
        "# Create an instance of SVR\n",
        "svr = SVR(kernel='rbf', C=1.0, epsilon=0.1)\n",
        "\n",
        "# Fit the SVR model on the training data\n",
        "svr.fit(X_train, y_train)\n",
        "\n",
        "# Make predictions on the test data\n",
        "y_pred = svr.predict(X_test)\n",
        "\n",
        "# Calculate evaluation metrics\n",
        "mse = mean_squared_error(y_test, y_pred)\n",
        "r2 = r2_score(y_test, y_pred)\n",
        "\n",
        "print(\"Mean Squared Error (MSE):\", mse)\n",
        "print(\"R2 Score:\", r2)\n",
        "\n",
        "# Plot the predicted values against the true values\n",
        "plt.scatter(y_test, y_pred, color='blue', alpha=0.5)\n",
        "plt.plot([y_test.min(), y_test.max()], [y_test.min(), y_test.max()], color='red', linestyle='--')\n",
        "plt.xlabel('True Values')\n",
        "plt.ylabel('Predicted Values')\n",
        "plt.title('SVR: True Values vs. Predicted Values')\n",
        "plt.show()\n"
      ],
      "metadata": {
        "colab": {
          "base_uri": "https://localhost:8080/",
          "height": 508
        },
        "id": "M_PB9c7erIWd",
        "outputId": "e50be3c1-5c7e-499f-9314-6c52123e30df"
      },
      "execution_count": null,
      "outputs": [
        {
          "output_type": "stream",
          "name": "stdout",
          "text": [
            "Mean Squared Error (MSE): 57.56521201555624\n",
            "R2 Score: 0.5244575628070309\n"
          ]
        },
        {
          "output_type": "display_data",
          "data": {
            "text/plain": [
              "<Figure size 640x480 with 1 Axes>"
            ],
            "image/png": "[encoded data removed]"
          },
          "metadata": {}
        }
      ]
    },
    {
      "cell_type": "markdown",
      "source": [
        "# **hyperparameter tuning svr**"
      ],
      "metadata": {
        "id": "0UkvhJUUrmHY"
      }
    },
    {
      "cell_type": "code",
      "source": [
        "from sklearn.svm import SVR\n",
        "from sklearn.model_selection import GridSearchCV\n",
        "from sklearn.metrics import mean_squared_error, r2_score, mean_absolute_error\n",
        "\n",
        "# Define the parameter grid for hyperparameter tuning\n",
        "param_grid = {\n",
        "    'kernel': ['linear', 'rbf'],\n",
        "    'C': [0.1, 1, 10],\n",
        "    'epsilon': [0.1, 0.01, 0.001]\n",
        "}\n",
        "\n",
        "# Create an instance of SVR\n",
        "svr = SVR()\n",
        "\n",
        "# Create GridSearchCV object\n",
        "grid_search = GridSearchCV(estimator=svr, param_grid=param_grid, cv=5, scoring='neg_mean_squared_error')\n",
        "\n",
        "# Fit the GridSearchCV object on the training data\n",
        "grid_search.fit(X_train, y_train)\n",
        "\n",
        "# Get the best hyperparameters\n",
        "best_params = grid_search.best_params_\n",
        "\n",
        "# Create a new SVR model with the best hyperparameters\n",
        "best_svr = SVR(kernel=best_params['kernel'], C=best_params['C'], epsilon=best_params['epsilon'])\n",
        "\n",
        "# Fit the SVR model on the training data\n",
        "best_svr.fit(X_train, y_train)\n",
        "\n",
        "# Make predictions on the test data\n",
        "y_pred = best_svr.predict(X_test)\n",
        "\n",
        "# Calculate evaluation metrics\n",
        "mse = mean_squared_error(y_test, y_pred)\n",
        "r2 = r2_score(y_test, y_pred)\n",
        "mae = mean_absolute_error(y_test, y_pred)\n",
        "\n",
        "print(\"Best Hyperparameters:\", best_params)\n",
        "print(\"Mean Squared Error (MSE):\", mse)\n",
        "print(\"R2 Score:\", r2)\n",
        "print(\"Mean Absolute Error (MAE):\", mae)\n"
      ],
      "metadata": {
        "colab": {
          "base_uri": "https://localhost:8080/"
        },
        "id": "CnE6gaJndIu9",
        "outputId": "409f05e8-94b6-4677-cc0e-91795dc9af13"
      },
      "execution_count": null,
      "outputs": [
        {
          "output_type": "stream",
          "name": "stdout",
          "text": [
            "Best Hyperparameters: {'C': 10, 'epsilon': 0.001, 'kernel': 'linear'}\n",
            "Mean Squared Error (MSE): 21.935043310785357\n",
            "R2 Score: 0.8187960472876336\n",
            "Mean Absolute Error (MAE): 3.507196108359975\n"
          ]
        }
      ]
    },
    {
      "cell_type": "code",
      "source": [
        "from sklearn.model_selection import train_test_split\n",
        "\n",
        "X_train, X_test, y_train, y_test = train_test_split(X, y, test_size=0.2, random_state=42)\n",
        "\n",
        "# Split the training set into training and validation sets\n",
        "X_train, X_val, y_train, y_val = train_test_split(X_train, y_train, test_size=0.2, random_state=42)\n"
      ],
      "metadata": {
        "id": "TlBciqwGeOIW"
      },
      "execution_count": null,
      "outputs": []
    },
    {
      "cell_type": "markdown",
      "source": [
        "# **checking for overfitting**"
      ],
      "metadata": {
        "id": "oeFZDrFpfp3l"
      }
    },
    {
      "cell_type": "code",
      "source": [
        "# Make predictions on the training data\n",
        "y_pred_train = best_svr.predict(X_train)\n",
        "\n",
        "# Calculate evaluation metrics on the training set\n",
        "mse_train = mean_squared_error(y_train, y_pred_train)\n",
        "r2_train = r2_score(y_train, y_pred_train)\n",
        "mae_train = mean_absolute_error(y_train, y_pred_train)\n",
        "\n",
        "# Make predictions on the validation data\n",
        "y_pred_val = best_svr.predict(X_val)\n",
        "\n",
        "# Calculate evaluation metrics on the validation set\n",
        "mse_val = mean_squared_error(y_val, y_pred_val)\n",
        "r2_val = r2_score(y_val, y_pred_val)\n",
        "mae_val = mean_absolute_error(y_val, y_pred_val)\n",
        "\n",
        "# Print the evaluation metrics\n",
        "print(\"Training Set Evaluation:\")\n",
        "print(\"Mean Squared Error (MSE):\", mse_train)\n",
        "print(\"R2 Score:\", r2_train)\n",
        "print(\"Mean Absolute Error (MAE):\", mae_train)\n",
        "print(\"\")\n",
        "\n",
        "print(\"Validation Set Evaluation:\")\n",
        "print(\"Mean Squared Error (MSE):\", mse_val)\n",
        "print(\"R2 Score:\", r2_val)\n",
        "print(\"Mean Absolute Error (MAE):\", mae_val)\n"
      ],
      "metadata": {
        "colab": {
          "base_uri": "https://localhost:8080/"
        },
        "id": "h8GqntC6fRjy",
        "outputId": "66963dae-8e87-49f9-f379-19b2cf392ce7"
      },
      "execution_count": null,
      "outputs": [
        {
          "output_type": "stream",
          "name": "stdout",
          "text": [
            "Training Set Evaluation:\n",
            "Mean Squared Error (MSE): 51.59178429737592\n",
            "R2 Score: 0.6848955265235224\n",
            "Mean Absolute Error (MAE): 4.553538355977076\n",
            "\n",
            "Validation Set Evaluation:\n",
            "Mean Squared Error (MSE): 30.22946004002782\n",
            "R2 Score: 0.7560937102826131\n",
            "Mean Absolute Error (MAE): 4.108564705331276\n"
          ]
        }
      ]
    },
    {
      "cell_type": "code",
      "source": [
        "import numpy as np\n",
        "import matplotlib.pyplot as plt\n",
        "from sklearn.model_selection import learning_curve\n",
        "\n",
        "# Define the SVR model with the best hyperparameters\n",
        "svr_model = SVR(kernel=best_params['kernel'], C=best_params['C'], epsilon=best_params['epsilon'])\n",
        "\n",
        "# Generate the learning curves\n",
        "train_sizes, train_scores, val_scores = learning_curve(svr_model, X_train, y_train, cv=5, scoring='neg_mean_squared_error')\n",
        "\n",
        "# Calculate the mean and standard deviation of the training and validation scores\n",
        "train_scores_mean = -np.mean(train_scores, axis=1)\n",
        "train_scores_std = np.std(train_scores, axis=1)\n",
        "val_scores_mean = -np.mean(val_scores, axis=1)\n",
        "val_scores_std = np.std(val_scores, axis=1)\n",
        "\n",
        "# Plot the learning curves\n",
        "plt.figure(figsize=(10, 6))\n",
        "plt.plot(train_sizes, train_scores_mean, label='Training Score', color='blue')\n",
        "plt.plot(train_sizes, val_scores_mean, label='Validation Score', color='red')\n",
        "plt.fill_between(train_sizes, train_scores_mean - train_scores_std,\n",
        "                 train_scores_mean + train_scores_std, alpha=0.2, color='blue')\n",
        "plt.fill_between(train_sizes, val_scores_mean - val_scores_std,\n",
        "                 val_scores_mean + val_scores_std, alpha=0.2, color='red')\n",
        "plt.xlabel('Training Set Size')\n",
        "plt.ylabel('Negative Mean Squared Error')\n",
        "plt.title('Learning Curves')\n",
        "plt.legend(loc='best')\n",
        "plt.show()\n"
      ],
      "metadata": {
        "colab": {
          "base_uri": "https://localhost:8080/",
          "height": 564
        },
        "id": "Ypr6JP-XfRbc",
        "outputId": "9dc2fedf-df54-4e91-8988-a40183adc78a"
      },
      "execution_count": null,
      "outputs": [
        {
          "output_type": "display_data",
          "data": {
            "text/plain": [
              "<Figure size 1000x600 with 1 Axes>"
            ],
            "image/png": "[encoded data removed]"
          },
          "metadata": {}
        }
      ]
    },
    {
      "cell_type": "code",
      "source": [
        "from sklearn.ensemble import RandomForestRegressor\n",
        "from sklearn.model_selection import cross_val_score\n",
        "from sklearn.model_selection import GridSearchCV\n",
        "from sklearn.metrics import mean_squared_error\n",
        "\n",
        "# Create a Random Forest regressor object\n",
        "regressor_rf = RandomForestRegressor(n_estimators=100, random_state=0)\n",
        "\n",
        "# Fit the regressor with X and y data\n",
        "regressor_rf.fit(X_train, y_train)\n",
        "\n",
        "# Calculate the training set R2 score\n",
        "train_r2 = regressor_rf.score(X_train, y_train)\n",
        "\n",
        "# Calculate the validation set R2 score\n",
        "val_r2 = regressor_rf.score(X_val, y_val)\n",
        "\n",
        "# Print the R2 scores\n",
        "print(\"Training Set R2 Score:\", train_r2)\n",
        "print(\"Validation Set R2 Score:\", val_r2)\n",
        "\n",
        "# Perform cross-validation\n",
        "cv_scores = cross_val_score(regressor_rf, X_train, y_train, cv=5, scoring='neg_mean_squared_error')\n",
        "cv_mse_scores = -cv_scores\n",
        "\n",
        "# Calculate the mean MSE and its standard deviation\n",
        "mean_mse = np.mean(cv_mse_scores)\n",
        "std_mse = np.std(cv_mse_scores)\n",
        "\n",
        "# Print the mean MSE and its standard deviation\n",
        "print(\"Mean MSE: %.3f\" % mean_mse)\n",
        "print(\"Standard Deviation of MSE: %.3f\" % std_mse)\n",
        "\n",
        "# Grid search for hyperparameter tuning\n",
        "parameters = {\n",
        "    'n_estimators': [100, 150, 200, 250, 300],\n",
        "    'max_depth': [1, 2, 3, 4],\n",
        "}\n",
        "\n",
        "regr = RandomForestRegressor(random_state=0)\n",
        "\n",
        "clf = GridSearchCV(regr, parameters)\n",
        "clf.fit(X_train, y_train)\n",
        "\n",
        "# Make predictions on the training set\n",
        "y_pred_train = clf.predict(X_train)\n",
        "\n",
        "# Calculate the mean squared error on the training set\n",
        "mse_train = mean_squared_error(y_train, y_pred_train)\n",
        "\n",
        "print(\"Mean Squared Error (MSE) on Training Set:\", mse_train)\n"
      ],
      "metadata": {
        "colab": {
          "base_uri": "https://localhost:8080/"
        },
        "id": "54r5lPAGiSxJ",
        "outputId": "5212c578-0a9c-4840-9e1c-450be8619ba8"
      },
      "execution_count": null,
      "outputs": [
        {
          "output_type": "stream",
          "name": "stdout",
          "text": [
            "Training Set R2 Score: 0.9332885761399458\n",
            "Validation Set R2 Score: 0.7312055587614494\n",
            "Mean MSE: 47.550\n",
            "Standard Deviation of MSE: 29.971\n",
            "Mean Squared Error (MSE) on Training Set: 32.239099224313506\n"
          ]
        }
      ]
    },
    {
      "cell_type": "markdown",
      "source": [
        "# **Slight case of overfitting noticed**"
      ],
      "metadata": {
        "id": "k9vfPhCsltND"
      }
    },
    {
      "cell_type": "code",
      "source": [
        "from sklearn.ensemble import GradientBoostingRegressor\n",
        "from sklearn.metrics import mean_squared_error, r2_score, mean_absolute_error\n",
        "\n",
        "# Create an instance of GradientBoostingRegressor with desired parameters\n",
        "gbr = GradientBoostingRegressor(n_estimators=600, max_depth=7, learning_rate=0.01, min_samples_split=3)\n",
        "\n",
        "# Fit the model on the training data\n",
        "gbr.fit(X_train, y_train)\n",
        "\n",
        "# Calculate predictions on the validation set\n",
        "pred_val = gbr.predict(X_val)\n",
        "\n",
        "# Calculate predictions on the train set\n",
        "pred_train = gbr.predict(X_train)\n",
        "\n",
        "# Calculate predictions on the test set\n",
        "pred_test = gbr.predict(X_test)\n",
        "\n",
        "# Calculate evaluation metrics for validation set\n",
        "val_r2 = r2_score(y_val, pred_val)\n",
        "val_mse = mean_squared_error(y_val, pred_val)\n",
        "val_mae = mean_absolute_error(y_val, pred_val)\n",
        "\n",
        "# Calculate evaluation metrics for train set\n",
        "train_r2 = r2_score(y_train, pred_train)\n",
        "train_mse = mean_squared_error(y_train, pred_train)\n",
        "train_mae = mean_absolute_error(y_train, pred_train)\n",
        "\n",
        "# Calculate evaluation metrics for test set\n",
        "test_r2 = r2_score(y_test, pred_test)\n",
        "test_mse = mean_squared_error(y_test, pred_test)\n",
        "test_mae = mean_absolute_error(y_test, pred_test)\n",
        "\n",
        "# Print evaluation metrics\n",
        "print(\"Validation Set R2 Score:\", val_r2)\n",
        "print(\"Validation Set MSE:\", val_mse)\n",
        "print(\"Validation Set MAE:\", val_mae)\n",
        "print(\"Train Set R2 Score:\", train_r2)\n",
        "print(\"Train Set MSE:\", train_mse)\n",
        "print(\"Train Set MAE:\", train_mae)\n",
        "print(\"Test Set R2 Score:\", test_r2)\n",
        "print(\"Test Set MSE:\", test_mse)\n",
        "print(\"Test Set MAE:\", test_mae)\n",
        "\n"
      ],
      "metadata": {
        "colab": {
          "base_uri": "https://localhost:8080/"
        },
        "id": "IEp-Fb1bjiIZ",
        "outputId": "3179914d-70d2-4918-e7e7-efc083b2cb06"
      },
      "execution_count": null,
      "outputs": [
        {
          "output_type": "stream",
          "name": "stdout",
          "text": [
            "Validation Set R2 Score: 0.6729863586070535\n",
            "Validation Set MSE: 40.52968792435111\n",
            "Validation Set MAE: 4.698039194999104\n",
            "Train Set R2 Score: 0.953668084261873\n",
            "Train Set MSE: 7.585884695553472\n",
            "Train Set MAE: 1.7930421000622971\n",
            "Test Set R2 Score: 0.7804898849622376\n",
            "Test Set MSE: 26.572068701789377\n",
            "Test Set MAE: 3.3711566563474356\n"
          ]
        }
      ]
    },
    {
      "cell_type": "markdown",
      "source": [],
      "metadata": {
        "id": "rtEZ7yr_sMOo"
      }
    },
    {
      "cell_type": "markdown",
      "source": [
        "# **Increased test size to address the problem of overfitting**"
      ],
      "metadata": {
        "id": "tkTW7wIhlbIh"
      }
    },
    {
      "cell_type": "code",
      "source": [
        "X = df[['position_cat', 'fpl_value', 'new_foreign', 'age_cat', 'big_club',\n",
        "       'new_signing']]\n",
        "y = df['market_value']\n",
        "X_train, X_test, y_train, y_test = train_test_split(X, y, test_size=0.4, random_state=42)"
      ],
      "metadata": {
        "id": "DCQJtwzMlS9W"
      },
      "execution_count": null,
      "outputs": []
    },
    {
      "cell_type": "markdown",
      "source": [
        "# **Model selection : gradient boosted regression as it has test r2 = 0.83 as compared to all the other models**"
      ],
      "metadata": {
        "id": "FPkIGj-UsBu_"
      }
    },
    {
      "cell_type": "markdown",
      "source": [
        "gradient boosted regression"
      ],
      "metadata": {
        "id": "D2HzQwY0l8JB"
      }
    },
    {
      "cell_type": "code",
      "source": [
        "from sklearn.ensemble import GradientBoostingRegressor\n",
        "from sklearn.metrics import mean_squared_error, r2_score, mean_absolute_error\n",
        "\n",
        "# Create an instance of GradientBoostingRegressor with desired parameters\n",
        "gbr = GradientBoostingRegressor(n_estimators=600, max_depth=7, learning_rate=0.01, min_samples_split=3)\n",
        "\n",
        "# Fit the model on the training data\n",
        "gbr.fit(X_train, y_train)\n",
        "\n",
        "# Calculate predictions on the validation set\n",
        "pred_val = gbr.predict(X_val)\n",
        "\n",
        "# Calculate predictions on the train set\n",
        "pred_train = gbr.predict(X_train)\n",
        "\n",
        "# Calculate predictions on the test set\n",
        "pred_test = gbr.predict(X_test)\n",
        "\n",
        "# Calculate evaluation metrics for validation set\n",
        "val_r2 = r2_score(y_val, pred_val)\n",
        "val_mse = mean_squared_error(y_val, pred_val)\n",
        "val_mae = mean_absolute_error(y_val, pred_val)\n",
        "\n",
        "# Calculate evaluation metrics for train set\n",
        "train_r2 = r2_score(y_train, pred_train)\n",
        "train_mse = mean_squared_error(y_train, pred_train)\n",
        "train_mae = mean_absolute_error(y_train, pred_train)\n",
        "\n",
        "# Calculate evaluation metrics for test set\n",
        "test_r2 = r2_score(y_test, pred_test)\n",
        "test_mse = mean_squared_error(y_test, pred_test)\n",
        "test_mae = mean_absolute_error(y_test, pred_test)\n",
        "\n",
        "# Print evaluation metrics\n",
        "print(\"Validation Set R2 Score:\", val_r2)\n",
        "print(\"Validation Set MSE:\", val_mse)\n",
        "print(\"Validation Set MAE:\", val_mae)\n",
        "print(\"Train Set R2 Score:\", train_r2)\n",
        "print(\"Train Set MSE:\", train_mse)\n",
        "print(\"Train Set MAE:\", train_mae)\n",
        "print(\"Test Set R2 Score:\", test_r2)\n",
        "print(\"Test Set MSE:\", test_mse)\n",
        "print(\"Test Set MAE:\", test_mae)\n"
      ],
      "metadata": {
        "colab": {
          "base_uri": "https://localhost:8080/"
        },
        "id": "dupkARbwlVYQ",
        "outputId": "242ec9dc-dc8f-474a-a700-a78465efd39f"
      },
      "execution_count": null,
      "outputs": [
        {
          "output_type": "stream",
          "name": "stdout",
          "text": [
            "Validation Set R2 Score: 0.9317165299137352\n",
            "Validation Set MSE: 8.462973352425323\n",
            "Validation Set MAE: 2.0781523864992963\n",
            "Train Set R2 Score: 0.9434306103745751\n",
            "Train Set MSE: 8.83733232837564\n",
            "Train Set MAE: 1.984308105105798\n",
            "Test Set R2 Score: 0.8357075534232017\n",
            "Test Set MSE: 19.887877043263956\n",
            "Test Set MAE: 3.124458284380722\n"
          ]
        }
      ]
    },
    {
      "cell_type": "markdown",
      "source": [
        "random forest regressor"
      ],
      "metadata": {
        "id": "O52ffGIZnE1J"
      }
    },
    {
      "cell_type": "code",
      "source": [
        "y_pred_test = clf.predict(X_test)\n",
        "\n",
        "test_r2 = r2_score(y_test, y_pred_test)\n",
        "\n",
        "test_mse = mean_squared_error(y_test, y_pred_test)\n",
        "\n",
        "test_mae = mean_absolute_error(y_test, y_pred_test)\n",
        "\n",
        "print(\"Test Set R2 Score:\", test_r2)\n",
        "print(\"Test Set MSE:\", test_mse)\n",
        "print(\"Test Set MAE:\", test_mae)\n",
        "\n",
        "y_pred_train = clf.predict(X_train)\n",
        "\n",
        "train_r2 = r2_score(y_train, y_pred_train)\n",
        "\n",
        "train_mse = mean_squared_error(y_train, y_pred_train)\n",
        "\n",
        "train_mae = mean_absolute_error(y_train, y_pred_train)\n",
        "\n",
        "print(\"Train Set R2 Score:\", train_r2)\n",
        "print(\"Train Set MSE:\", train_mse)\n",
        "print(\"Train Set MAE:\", train_mae)\n",
        "\n",
        "y_pred_val = clf.predict(X_val)\n",
        "\n",
        "val_r2 = r2_score(y_val, y_pred_val)\n",
        "\n",
        "val_mse = mean_squared_error(y_val, y_pred_val)\n",
        "\n",
        "val_mae = mean_absolute_error(y_val, y_pred_val)\n",
        "\n",
        "print(\"Validation Set R2 Score:\", val_r2)\n",
        "print(\"Validation Set MSE:\", val_mse)\n",
        "print(\"Validation Set MAE:\", val_mae)\n"
      ],
      "metadata": {
        "colab": {
          "base_uri": "https://localhost:8080/"
        },
        "id": "F1A-WpHlmimB",
        "outputId": "981aca99-9af3-45be-eb0d-744c96dca237"
      },
      "execution_count": null,
      "outputs": [
        {
          "output_type": "stream",
          "name": "stdout",
          "text": [
            "Test Set R2 Score: 0.7061730990911437\n",
            "Test Set MSE: 30.10428933903137\n",
            "Test Set MAE: 3.842573301525556\n",
            "Train Set R2 Score: 0.8289569755290316\n",
            "Train Set MSE: 30.537738150843246\n",
            "Train Set MAE: 4.044141585821272\n",
            "Validation Set R2 Score: 0.8055723000391732\n",
            "Validation Set MSE: 24.097141543379205\n",
            "Validation Set MAE: 3.6575071703175888\n"
          ]
        }
      ]
    },
    {
      "cell_type": "markdown",
      "source": [
        "# **GENETIC ALGORITHM**"
      ],
      "metadata": {
        "id": "6R7sFFeEOlEx"
      }
    },
    {
      "cell_type": "code",
      "source": [
        "import csv\n",
        "import random as rand\n",
        "import math\n",
        "import operator\n",
        "\n",
        "\n",
        "def euclideanDistance(instance1, instance2, length):\n",
        "    distance = 0\n",
        "    for x in range(length):\n",
        "        distance += pow((instance1[x] - instance2[x]), 2)\n",
        "    return math.sqrt(distance)\n",
        "\n",
        "\n",
        "def getNeighbors(trainingSet, testInstance, k):\n",
        "    distances = []\n",
        "    length = len(testInstance) - 1\n",
        "    for x in range(len(trainingSet)):\n",
        "        dist = euclideanDistance(testInstance, trainingSet[x], length)\n",
        "        distances.append((trainingSet[x], dist))\n",
        "    # print('Distances: ')\n",
        "    # print(*distances, sep=\",\")\n",
        "    distances.sort(key=operator.itemgetter(1))\n",
        "    neighbors = []\n",
        "    for x in range(min(k, len(distances))):\n",
        "        neighbors.append(distances[x][0])\n",
        "    return neighbors\n",
        "\n",
        "\n",
        "def getResponse(neighbors):\n",
        "    classVotes = {}\n",
        "    for x in range(len(neighbors)):\n",
        "        response = neighbors[x][-1]\n",
        "        #print('Neighbors: ' + neighbors[x][-1])\n",
        "        #print(classVotes)\n",
        "        if response in classVotes:\n",
        "            classVotes[response] += 1\n",
        "        else:\n",
        "            classVotes[response] = 1\n",
        "    # print(classVotes)#coba1\n",
        "    sortedVotes = sorted(classVotes.items(), key=operator.itemgetter(1), reverse=True)\n",
        "    return sortedVotes[0][0]\n",
        "\n",
        "\n",
        "def getAccuracy(testSet, predictions):\n",
        "    correct = 0\n",
        "    for x in range(len(testSet)):\n",
        "        if testSet[x][-1] == predictions[x]:\n",
        "            correct = correct+1\n",
        "    return (correct / float(len(testSet))) * 100.0\n",
        "\n",
        "\n",
        "def generateChromosome(chromosome):\n",
        "    return [rand.randint(1, 100) for x in range(chromosome)]\n",
        "\n",
        "\n",
        "def desimal(biner):\n",
        "    return int(biner, 2)\n",
        "\n",
        "\n",
        "def kNN(k, testSet, trainingSet):\n",
        "    # generate predictions\n",
        "    predictions = []\n",
        "    for x in range(len(testSet)):\n",
        "        neighbors = getNeighbors(trainingSet, testSet[x], k)\n",
        "        result = getResponse(neighbors)\n",
        "        predictions.append(result)\n",
        "        #print('> predicted=' + repr(result) + ', actual=' + repr(testSet[x][-1]))\n",
        "    accuracy = getAccuracy(testSet, predictions)\n",
        "    #print('Accuracy: ' + repr(accuracy) + '%')\n",
        "    return accuracy\n",
        "\n",
        "\n",
        "def crossover(one, two):\n",
        "    parent = [one, two]\n",
        "    zero = '0'\n",
        "    male = \"{0:b}\".format(parent[0])\n",
        "    female = \"{0:b}\".format(parent[1])\n",
        "    length = max(len(male), len(female))\n",
        "    if length % 2 == 1:\n",
        "        length = length + 1\n",
        "    while len(male) < length:\n",
        "        male = zero + male\n",
        "\n",
        "    while len(female) < length:\n",
        "        female = zero + female\n",
        "\n",
        "    child = []\n",
        "    half = int(length / 2)\n",
        "    male1 = male[:half]\n",
        "    male2 = male[half:]\n",
        "\n",
        "    female1 = female[:half]\n",
        "    female2 = female[half:]\n",
        "\n",
        "    child.append(desimal(male1 + female2))\n",
        "    child.append(desimal(female1 + male2))\n",
        "    return child\n",
        "\n",
        "\n",
        "\n",
        "# prepare data\n",
        "trainingSet = x_train\n",
        "testSet = x_test\n",
        "split = 0.67\n",
        "\n",
        "print('Train set: ' + repr(len(trainingSet)))\n",
        "print('Test set: ' + repr(len(testSet)))\n",
        "\n",
        "accResult = [[]]\n",
        "chromosome = 10\n",
        "population = generateChromosome(chromosome)\n",
        "\n",
        "for x in range(len(population)):\n",
        "  accResult.append([population[x], kNN(population[x], testSet, trainingSet)])\n",
        "\n",
        "del accResult[0]\n",
        "\n",
        "for x in range(200):\n",
        "        status_one = True\n",
        "        status_zero = True\n",
        "        accResult = sorted(accResult, key=lambda l: l[1], reverse=True)\n",
        "        newChromosome = crossover(accResult[0][0], accResult[1][0])\n",
        "        for i in accResult:\n",
        "            if newChromosome[0] == i[0]:\n",
        "                status_zero = False;\n",
        "            if newChromosome[1] == i[0]:\n",
        "                status_one = False\n",
        "        if status_zero:\n",
        "            accResult.append([newChromosome[0], kNN(newChromosome[0], testSet, trainingSet)])\n",
        "        if status_one:\n",
        "            accResult.append([newChromosome[1], kNN(newChromosome[1], testSet, trainingSet)])\n",
        "\n",
        "accResult = sorted(accResult, key=lambda l: l[1],reverse=True)\n",
        "print(\"accuracy: \\n\")\n",
        "print(accResult[0][1])"
      ],
      "metadata": {
        "colab": {
          "base_uri": "https://localhost:8080/"
        },
        "id": "2yR6_8ztOb6l",
        "outputId": "7dadc9b0-0745-4473-e7cc-92e9ffbfc58a"
      },
      "execution_count": null,
      "outputs": [
        {
          "output_type": "stream",
          "name": "stdout",
          "text": [
            "Train set: 276\n",
            "Test set: 185\n",
            "accuracy: \n",
            "\n",
            "87.56756756756758\n"
          ]
        }
      ]
    },
    {
      "cell_type": "markdown",
      "source": [
        "# **restful api deploy**\n"
      ],
      "metadata": {
        "id": "eOToQcgMxeg5"
      }
    },
    {
      "cell_type": "code",
      "source": [
        "!pip install flask-ngrok"
      ],
      "metadata": {
        "colab": {
          "base_uri": "https://localhost:8080/"
        },
        "id": "kyfwsGZjv0Uw",
        "outputId": "e6e478b5-a530-417b-e069-d6fd3f765caf"
      },
      "execution_count": null,
      "outputs": [
        {
          "output_type": "stream",
          "name": "stdout",
          "text": [
            "Looking in indexes: https://pypi.org/simple, https://us-python.pkg.dev/colab-wheels/public/simple/\n",
            "Collecting flask-ngrok\n",
            "  Downloading flask_ngrok-0.0.25-py3-none-any.whl (3.1 kB)\n",
            "Requirement already satisfied: Flask>=0.8 in /usr/local/lib/python3.10/dist-packages (from flask-ngrok) (2.2.4)\n",
            "Requirement already satisfied: requests in /usr/local/lib/python3.10/dist-packages (from flask-ngrok) (2.27.1)\n",
            "Requirement already satisfied: itsdangerous>=2.0 in /usr/local/lib/python3.10/dist-packages (from Flask>=0.8->flask-ngrok) (2.1.2)\n",
            "Requirement already satisfied: Jinja2>=3.0 in /usr/local/lib/python3.10/dist-packages (from Flask>=0.8->flask-ngrok) (3.1.2)\n",
            "Requirement already satisfied: click>=8.0 in /usr/local/lib/python3.10/dist-packages (from Flask>=0.8->flask-ngrok) (8.1.3)\n",
            "Requirement already satisfied: Werkzeug>=2.2.2 in /usr/local/lib/python3.10/dist-packages (from Flask>=0.8->flask-ngrok) (2.3.0)\n",
            "Requirement already satisfied: charset-normalizer~=2.0.0 in /usr/local/lib/python3.10/dist-packages (from requests->flask-ngrok) (2.0.12)\n",
            "Requirement already satisfied: urllib3<1.27,>=1.21.1 in /usr/local/lib/python3.10/dist-packages (from requests->flask-ngrok) (1.26.15)\n",
            "Requirement already satisfied: certifi>=2017.4.17 in /usr/local/lib/python3.10/dist-packages (from requests->flask-ngrok) (2022.12.7)\n",
            "Requirement already satisfied: idna<4,>=2.5 in /usr/local/lib/python3.10/dist-packages (from requests->flask-ngrok) (3.4)\n",
            "Requirement already satisfied: MarkupSafe>=2.0 in /usr/local/lib/python3.10/dist-packages (from Jinja2>=3.0->Flask>=0.8->flask-ngrok) (2.1.2)\n",
            "Installing collected packages: flask-ngrok\n",
            "Successfully installed flask-ngrok-0.0.25\n"
          ]
        }
      ]
    },
    {
      "cell_type": "code",
      "source": [
        "!pip install flask\n",
        "!pip install scikit-learn"
      ],
      "metadata": {
        "id": "iJkbbJyov5EK",
        "colab": {
          "base_uri": "https://localhost:8080/"
        },
        "outputId": "c876b3a4-48bf-4f65-cd7a-28d01055abda"
      },
      "execution_count": null,
      "outputs": [
        {
          "output_type": "stream",
          "name": "stdout",
          "text": [
            "Looking in indexes: https://pypi.org/simple, https://us-python.pkg.dev/colab-wheels/public/simple/\n",
            "Requirement already satisfied: flask in /usr/local/lib/python3.10/dist-packages (2.2.4)\n",
            "Requirement already satisfied: Werkzeug>=2.2.2 in /usr/local/lib/python3.10/dist-packages (from flask) (2.3.0)\n",
            "Requirement already satisfied: itsdangerous>=2.0 in /usr/local/lib/python3.10/dist-packages (from flask) (2.1.2)\n",
            "Requirement already satisfied: click>=8.0 in /usr/local/lib/python3.10/dist-packages (from flask) (8.1.3)\n",
            "Requirement already satisfied: Jinja2>=3.0 in /usr/local/lib/python3.10/dist-packages (from flask) (3.1.2)\n",
            "Requirement already satisfied: MarkupSafe>=2.0 in /usr/local/lib/python3.10/dist-packages (from Jinja2>=3.0->flask) (2.1.2)\n",
            "Looking in indexes: https://pypi.org/simple, https://us-python.pkg.dev/colab-wheels/public/simple/\n",
            "Requirement already satisfied: scikit-learn in /usr/local/lib/python3.10/dist-packages (1.2.2)\n",
            "Requirement already satisfied: scipy>=1.3.2 in /usr/local/lib/python3.10/dist-packages (from scikit-learn) (1.10.1)\n",
            "Requirement already satisfied: numpy>=1.17.3 in /usr/local/lib/python3.10/dist-packages (from scikit-learn) (1.22.4)\n",
            "Requirement already satisfied: joblib>=1.1.1 in /usr/local/lib/python3.10/dist-packages (from scikit-learn) (1.2.0)\n",
            "Requirement already satisfied: threadpoolctl>=2.0.0 in /usr/local/lib/python3.10/dist-packages (from scikit-learn) (3.1.0)\n"
          ]
        }
      ]
    },
    {
      "cell_type": "code",
      "source": [
        "from flask_ngrok import run_with_ngrok\n",
        "from flask import Flask"
      ],
      "metadata": {
        "id": "Z3qjr_VmOD62"
      },
      "execution_count": null,
      "outputs": []
    },
    {
      "cell_type": "code",
      "source": [
        "from flask import Flask, render_template, request, Response\n",
        "app = Flask(__name__)\n",
        "\n",
        "df = pd.read_csv('/content/Data set__1682565729-62fcaa4ea2bc0b6439d2306a (1).csv')\n",
        "\n",
        "df1 = df\n",
        "df1.drop([\"name\",\"club\",\"position\",\"nationality\",\"fpl_sel\", \"club_id\", \"nationality\", \"region\", \"fpl_points\", \"fpl_value\", \"page_views\", \"age\"], axis='columns', inplace=True)\n",
        "\n",
        "x = df1[df1.columns[~df1.columns.isin([\"market_value\"])]].to_numpy()\n",
        "y = df1.market_value.to_numpy()\n",
        "\n",
        "x_train, x_test, y_train, y_test = train_test_split(x, y, test_size=0.4)\n",
        "\n",
        "@app.route(\"/\", methods=['GET','POST'])\n",
        "def index():\n",
        "    return render_template(\"ml_assignment.html\")\n",
        "\n",
        "@app.route(\"/data\", methods=['GET','POST'])\n",
        "def data():\n",
        "    if request.method == \"POST\":\n",
        "         opt = request.form['excellent']\n",
        "         m = int(opt) * 1\n",
        "         a = request.form['position_cat']\n",
        "         b = request.form['fpl_value']\n",
        "         c = request.form['new_foreign']\n",
        "         d = request.form['age_cat']\n",
        "         e = request.form['big_club']\n",
        "         f = request.form['new_signing']\n",
        "         li = [a, b, c, d, e, f]\n",
        "         model = gbr()\n",
        "         model.fit(x_train, y_train)\n",
        "         y_pred_svr = model.predict(x_test)\n",
        "         market_value = model.predict([li])\n",
        "    return render_template(\"ml_data.html\", market_value=market_value)\n",
        "\n",
        "if __name__ == '__main__':\n",
        "    app.run(debug=True)"
      ],
      "metadata": {
        "colab": {
          "base_uri": "https://localhost:8080/"
        },
        "id": "c1woCtNJOFy6",
        "outputId": "47f7a71a-b91f-4295-9e95-aad97585e171"
      },
      "execution_count": null,
      "outputs": [
        {
          "output_type": "stream",
          "name": "stdout",
          "text": [
            " * Serving Flask app '__main__'\n",
            " * Debug mode: on\n"
          ]
        },
        {
          "output_type": "stream",
          "name": "stderr",
          "text": [
            "INFO:werkzeug:\u001b[31m\u001b[1mWARNING: This is a development server. Do not use it in a production deployment. Use a production WSGI server instead.\u001b[0m\n",
            " * Running on http://127.0.0.1:5000\n",
            "INFO:werkzeug:\u001b[33mPress CTRL+C to quit\u001b[0m\n",
            "INFO:werkzeug: * Restarting with stat\n"
          ]
        }
      ]
    }
  ]
}